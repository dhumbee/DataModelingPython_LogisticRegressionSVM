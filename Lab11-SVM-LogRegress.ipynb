{
 "cells": [
  {
   "cell_type": "markdown",
   "metadata": {},
   "source": [
    "# Lab11: Income Dataset SVM and Logistic Regression"
   ]
  },
  {
   "cell_type": "markdown",
   "metadata": {},
   "source": [
    "#### Author: Dianna Hummel"
   ]
  },
  {
   "cell_type": "code",
   "execution_count": 1,
   "metadata": {
    "collapsed": true
   },
   "outputs": [],
   "source": [
    "# Import the needed libraries\n",
    "import numpy as np\n",
    "import pandas as pd\n",
    "from pandas import Series, DataFrame\n",
    "from sklearn.pipeline import Pipeline\n",
    "from sklearn.linear_model import LogisticRegression\n",
    "from sklearn.svm import LinearSVC\n",
    "from sklearn.model_selection import GridSearchCV\n",
    "from sklearn.model_selection import train_test_split\n",
    "from sklearn.decomposition import PCA\n",
    "from sklearn.metrics import classification_report\n",
    "from sklearn.metrics import accuracy_score\n",
    "from sklearn.metrics import confusion_matrix\n",
    "from sklearn.feature_selection import SelectKBest,chi2,f_classif\n",
    "import matplotlib.pyplot as plt\n",
    "import seaborn as sns; sns.set()\n",
    "%matplotlib inline"
   ]
  },
  {
   "cell_type": "markdown",
   "metadata": {},
   "source": [
    "##### Step A"
   ]
  },
  {
   "cell_type": "code",
   "execution_count": 2,
   "metadata": {},
   "outputs": [
    {
     "data": {
      "text/html": [
       "<div>\n",
       "<style>\n",
       "    .dataframe thead tr:only-child th {\n",
       "        text-align: right;\n",
       "    }\n",
       "\n",
       "    .dataframe thead th {\n",
       "        text-align: left;\n",
       "    }\n",
       "\n",
       "    .dataframe tbody tr th {\n",
       "        vertical-align: top;\n",
       "    }\n",
       "</style>\n",
       "<table border=\"1\" class=\"dataframe\">\n",
       "  <thead>\n",
       "    <tr style=\"text-align: right;\">\n",
       "      <th></th>\n",
       "      <th>age</th>\n",
       "      <th>sex</th>\n",
       "      <th>race</th>\n",
       "      <th>edu</th>\n",
       "      <th>marstat</th>\n",
       "      <th>relation</th>\n",
       "      <th>workclass</th>\n",
       "      <th>hrswk</th>\n",
       "      <th>inc</th>\n",
       "    </tr>\n",
       "    <tr>\n",
       "      <th>id</th>\n",
       "      <th></th>\n",
       "      <th></th>\n",
       "      <th></th>\n",
       "      <th></th>\n",
       "      <th></th>\n",
       "      <th></th>\n",
       "      <th></th>\n",
       "      <th></th>\n",
       "      <th></th>\n",
       "    </tr>\n",
       "  </thead>\n",
       "  <tbody>\n",
       "    <tr>\n",
       "      <th>0</th>\n",
       "      <td>39</td>\n",
       "      <td>M</td>\n",
       "      <td>White</td>\n",
       "      <td>13</td>\n",
       "      <td>NevMarr</td>\n",
       "      <td>NoFamily</td>\n",
       "      <td>Gov</td>\n",
       "      <td>40</td>\n",
       "      <td>&lt;=50K</td>\n",
       "    </tr>\n",
       "    <tr>\n",
       "      <th>1</th>\n",
       "      <td>50</td>\n",
       "      <td>M</td>\n",
       "      <td>White</td>\n",
       "      <td>13</td>\n",
       "      <td>Married</td>\n",
       "      <td>Husband</td>\n",
       "      <td>Self</td>\n",
       "      <td>13</td>\n",
       "      <td>&lt;=50K</td>\n",
       "    </tr>\n",
       "    <tr>\n",
       "      <th>2</th>\n",
       "      <td>38</td>\n",
       "      <td>M</td>\n",
       "      <td>White</td>\n",
       "      <td>9</td>\n",
       "      <td>NotMarr</td>\n",
       "      <td>NoFamily</td>\n",
       "      <td>Priv</td>\n",
       "      <td>40</td>\n",
       "      <td>&lt;=50K</td>\n",
       "    </tr>\n",
       "    <tr>\n",
       "      <th>3</th>\n",
       "      <td>53</td>\n",
       "      <td>M</td>\n",
       "      <td>NonWh</td>\n",
       "      <td>7</td>\n",
       "      <td>Married</td>\n",
       "      <td>Husband</td>\n",
       "      <td>Priv</td>\n",
       "      <td>40</td>\n",
       "      <td>&lt;=50K</td>\n",
       "    </tr>\n",
       "    <tr>\n",
       "      <th>4</th>\n",
       "      <td>28</td>\n",
       "      <td>F</td>\n",
       "      <td>NonWh</td>\n",
       "      <td>13</td>\n",
       "      <td>Married</td>\n",
       "      <td>Wife</td>\n",
       "      <td>Priv</td>\n",
       "      <td>40</td>\n",
       "      <td>&lt;=50K</td>\n",
       "    </tr>\n",
       "  </tbody>\n",
       "</table>\n",
       "</div>"
      ],
      "text/plain": [
       "    age sex   race  edu  marstat  relation workclass  hrswk    inc\n",
       "id                                                                \n",
       "0    39   M  White   13  NevMarr  NoFamily       Gov     40  <=50K\n",
       "1    50   M  White   13  Married   Husband      Self     13  <=50K\n",
       "2    38   M  White    9  NotMarr  NoFamily      Priv     40  <=50K\n",
       "3    53   M  NonWh    7  Married   Husband      Priv     40  <=50K\n",
       "4    28   F  NonWh   13  Married      Wife      Priv     40  <=50K"
      ]
     },
     "execution_count": 2,
     "metadata": {},
     "output_type": "execute_result"
    }
   ],
   "source": [
    "cols = ['id','age','sex','race','edu','marstat','relation','workclass', 'hrswk','inc']\n",
    "inc_data = pd.read_csv(\"inc_data.csv\", header = None, names = cols, index_col = 'id')\n",
    "inc_data.head()"
   ]
  },
  {
   "cell_type": "code",
   "execution_count": 3,
   "metadata": {},
   "outputs": [
    {
     "data": {
      "text/plain": [
       "age           int64\n",
       "sex          object\n",
       "race         object\n",
       "edu           int64\n",
       "marstat      object\n",
       "relation     object\n",
       "workclass    object\n",
       "hrswk         int64\n",
       "inc          object\n",
       "dtype: object"
      ]
     },
     "execution_count": 3,
     "metadata": {},
     "output_type": "execute_result"
    }
   ],
   "source": [
    "inc_data.dtypes"
   ]
  },
  {
   "cell_type": "code",
   "execution_count": 4,
   "metadata": {},
   "outputs": [
    {
     "data": {
      "text/plain": [
       "(48842, 9)"
      ]
     },
     "execution_count": 4,
     "metadata": {},
     "output_type": "execute_result"
    }
   ],
   "source": [
    "inc_data.shape"
   ]
  },
  {
   "cell_type": "markdown",
   "metadata": {},
   "source": [
    "##### Step B"
   ]
  },
  {
   "cell_type": "code",
   "execution_count": 5,
   "metadata": {},
   "outputs": [
    {
     "data": {
      "text/plain": [
       "age          0\n",
       "sex          0\n",
       "race         0\n",
       "edu          0\n",
       "marstat      0\n",
       "relation     0\n",
       "workclass    0\n",
       "hrswk        0\n",
       "inc          0\n",
       "dtype: int64"
      ]
     },
     "execution_count": 5,
     "metadata": {},
     "output_type": "execute_result"
    }
   ],
   "source": [
    "inc_data = inc_data.dropna(axis = 1, how = 'any')\n",
    "inc_data.isnull().sum()"
   ]
  },
  {
   "cell_type": "code",
   "execution_count": 6,
   "metadata": {
    "collapsed": true
   },
   "outputs": [],
   "source": [
    "cols = ['workclass','marstat','relation','race','sex','inc']\n",
    "for col in cols:\n",
    "    inc_data[col] = inc_data[col].str.strip()"
   ]
  },
  {
   "cell_type": "markdown",
   "metadata": {},
   "source": [
    "##### Step C"
   ]
  },
  {
   "cell_type": "code",
   "execution_count": 7,
   "metadata": {},
   "outputs": [
    {
     "data": {
      "text/plain": [
       "M    32650\n",
       "F    16192\n",
       "Name: sex, dtype: int64"
      ]
     },
     "execution_count": 7,
     "metadata": {},
     "output_type": "execute_result"
    }
   ],
   "source": [
    "inc_data['sex'].value_counts()"
   ]
  },
  {
   "cell_type": "code",
   "execution_count": 8,
   "metadata": {},
   "outputs": [
    {
     "data": {
      "text/plain": [
       "<matplotlib.axes._subplots.AxesSubplot at 0x237cafbd358>"
      ]
     },
     "execution_count": 8,
     "metadata": {},
     "output_type": "execute_result"
    },
    {
     "data": {
      "image/png": "[encoded data removed]",
      "text/plain": [
       "<matplotlib.figure.Figure at 0x237c74e9518>"
      ]
     },
     "metadata": {},
     "output_type": "display_data"
    }
   ],
   "source": [
    "sns.countplot(x = 'sex', data = inc_data)"
   ]
  },
  {
   "cell_type": "code",
   "execution_count": 9,
   "metadata": {},
   "outputs": [
    {
     "data": {
      "text/html": [
       "<div>\n",
       "<style>\n",
       "    .dataframe thead tr:only-child th {\n",
       "        text-align: right;\n",
       "    }\n",
       "\n",
       "    .dataframe thead th {\n",
       "        text-align: left;\n",
       "    }\n",
       "\n",
       "    .dataframe tbody tr th {\n",
       "        vertical-align: top;\n",
       "    }\n",
       "</style>\n",
       "<table border=\"1\" class=\"dataframe\">\n",
       "  <thead>\n",
       "    <tr style=\"text-align: right;\">\n",
       "      <th>inc</th>\n",
       "      <th>&lt;=50K</th>\n",
       "      <th>&gt;50K</th>\n",
       "      <th>total</th>\n",
       "    </tr>\n",
       "    <tr>\n",
       "      <th>sex</th>\n",
       "      <th></th>\n",
       "      <th></th>\n",
       "      <th></th>\n",
       "    </tr>\n",
       "  </thead>\n",
       "  <tbody>\n",
       "    <tr>\n",
       "      <th>F</th>\n",
       "      <td>29.529913</td>\n",
       "      <td>3.621883</td>\n",
       "      <td>33.151796</td>\n",
       "    </tr>\n",
       "    <tr>\n",
       "      <th>M</th>\n",
       "      <td>46.541911</td>\n",
       "      <td>20.306294</td>\n",
       "      <td>66.848204</td>\n",
       "    </tr>\n",
       "    <tr>\n",
       "      <th>total</th>\n",
       "      <td>76.071823</td>\n",
       "      <td>23.928177</td>\n",
       "      <td>100.000000</td>\n",
       "    </tr>\n",
       "  </tbody>\n",
       "</table>\n",
       "</div>"
      ],
      "text/plain": [
       "inc        <=50K       >50K       total\n",
       "sex                                    \n",
       "F      29.529913   3.621883   33.151796\n",
       "M      46.541911  20.306294   66.848204\n",
       "total  76.071823  23.928177  100.000000"
      ]
     },
     "execution_count": 9,
     "metadata": {},
     "output_type": "execute_result"
    }
   ],
   "source": [
    "pd.pivot_table (inc_data, values='age', index=['sex'],\n",
    " columns='inc', margins = True, margins_name = 'total',\n",
    " aggfunc=lambda x: (len(x) / inc_data.shape[0])*100)"
   ]
  },
  {
   "cell_type": "code",
   "execution_count": 10,
   "metadata": {},
   "outputs": [
    {
     "data": {
      "text/plain": [
       "White    41762\n",
       "NonWh     7080\n",
       "Name: race, dtype: int64"
      ]
     },
     "execution_count": 10,
     "metadata": {},
     "output_type": "execute_result"
    }
   ],
   "source": [
    "inc_data['race'].value_counts()"
   ]
  },
  {
   "cell_type": "code",
   "execution_count": 11,
   "metadata": {},
   "outputs": [
    {
     "data": {
      "text/plain": [
       "<matplotlib.axes._subplots.AxesSubplot at 0x237cafbdb38>"
      ]
     },
     "execution_count": 11,
     "metadata": {},
     "output_type": "execute_result"
    },
    {
     "data": {
      "image/png": "[encoded data removed]",
      "text/plain": [
       "<matplotlib.figure.Figure at 0x237cb649cf8>"
      ]
     },
     "metadata": {},
     "output_type": "display_data"
    }
   ],
   "source": [
    "sns.countplot(x = 'race', data = inc_data)"
   ]
  },
  {
   "cell_type": "code",
   "execution_count": 12,
   "metadata": {},
   "outputs": [
    {
     "data": {
      "text/html": [
       "<div>\n",
       "<style>\n",
       "    .dataframe thead tr:only-child th {\n",
       "        text-align: right;\n",
       "    }\n",
       "\n",
       "    .dataframe thead th {\n",
       "        text-align: left;\n",
       "    }\n",
       "\n",
       "    .dataframe tbody tr th {\n",
       "        vertical-align: top;\n",
       "    }\n",
       "</style>\n",
       "<table border=\"1\" class=\"dataframe\">\n",
       "  <thead>\n",
       "    <tr style=\"text-align: right;\">\n",
       "      <th>inc</th>\n",
       "      <th>&lt;=50K</th>\n",
       "      <th>&gt;50K</th>\n",
       "      <th>total</th>\n",
       "    </tr>\n",
       "    <tr>\n",
       "      <th>race</th>\n",
       "      <th></th>\n",
       "      <th></th>\n",
       "      <th></th>\n",
       "    </tr>\n",
       "  </thead>\n",
       "  <tbody>\n",
       "    <tr>\n",
       "      <th>NonWh</th>\n",
       "      <td>12.284509</td>\n",
       "      <td>2.211212</td>\n",
       "      <td>14.495721</td>\n",
       "    </tr>\n",
       "    <tr>\n",
       "      <th>White</th>\n",
       "      <td>63.787314</td>\n",
       "      <td>21.716965</td>\n",
       "      <td>85.504279</td>\n",
       "    </tr>\n",
       "    <tr>\n",
       "      <th>total</th>\n",
       "      <td>76.071823</td>\n",
       "      <td>23.928177</td>\n",
       "      <td>100.000000</td>\n",
       "    </tr>\n",
       "  </tbody>\n",
       "</table>\n",
       "</div>"
      ],
      "text/plain": [
       "inc        <=50K       >50K       total\n",
       "race                                   \n",
       "NonWh  12.284509   2.211212   14.495721\n",
       "White  63.787314  21.716965   85.504279\n",
       "total  76.071823  23.928177  100.000000"
      ]
     },
     "execution_count": 12,
     "metadata": {},
     "output_type": "execute_result"
    }
   ],
   "source": [
    "pd.pivot_table (inc_data, values='age', index=['race'],\n",
    " columns='inc', margins = True, margins_name = 'total',\n",
    " aggfunc=lambda x: (len(x) / inc_data.shape[0])*100)"
   ]
  },
  {
   "cell_type": "code",
   "execution_count": 13,
   "metadata": {},
   "outputs": [
    {
     "data": {
      "text/plain": [
       "Married    22416\n",
       "NevMarr    16117\n",
       "NotMarr    10309\n",
       "Name: marstat, dtype: int64"
      ]
     },
     "execution_count": 13,
     "metadata": {},
     "output_type": "execute_result"
    }
   ],
   "source": [
    "inc_data['marstat'].value_counts()"
   ]
  },
  {
   "cell_type": "code",
   "execution_count": 14,
   "metadata": {},
   "outputs": [
    {
     "data": {
      "text/plain": [
       "<matplotlib.axes._subplots.AxesSubplot at 0x237cb6f0898>"
      ]
     },
     "execution_count": 14,
     "metadata": {},
     "output_type": "execute_result"
    },
    {
     "data": {
      "image/png": "[encoded data removed]",
      "text/plain": [
       "<matplotlib.figure.Figure at 0x237cbbe16d8>"
      ]
     },
     "metadata": {},
     "output_type": "display_data"
    }
   ],
   "source": [
    "sns.countplot(x = 'marstat', data = inc_data)"
   ]
  },
  {
   "cell_type": "code",
   "execution_count": 15,
   "metadata": {},
   "outputs": [
    {
     "data": {
      "text/html": [
       "<div>\n",
       "<style>\n",
       "    .dataframe thead tr:only-child th {\n",
       "        text-align: right;\n",
       "    }\n",
       "\n",
       "    .dataframe thead th {\n",
       "        text-align: left;\n",
       "    }\n",
       "\n",
       "    .dataframe tbody tr th {\n",
       "        vertical-align: top;\n",
       "    }\n",
       "</style>\n",
       "<table border=\"1\" class=\"dataframe\">\n",
       "  <thead>\n",
       "    <tr style=\"text-align: right;\">\n",
       "      <th>inc</th>\n",
       "      <th>&lt;=50K</th>\n",
       "      <th>&gt;50K</th>\n",
       "      <th>total</th>\n",
       "    </tr>\n",
       "    <tr>\n",
       "      <th>marstat</th>\n",
       "      <th></th>\n",
       "      <th></th>\n",
       "      <th></th>\n",
       "    </tr>\n",
       "  </thead>\n",
       "  <tbody>\n",
       "    <tr>\n",
       "      <th>Married</th>\n",
       "      <td>25.424839</td>\n",
       "      <td>20.470087</td>\n",
       "      <td>45.894926</td>\n",
       "    </tr>\n",
       "    <tr>\n",
       "      <th>NevMarr</th>\n",
       "      <td>31.497482</td>\n",
       "      <td>1.500758</td>\n",
       "      <td>32.998239</td>\n",
       "    </tr>\n",
       "    <tr>\n",
       "      <th>NotMarr</th>\n",
       "      <td>19.149502</td>\n",
       "      <td>1.957332</td>\n",
       "      <td>21.106834</td>\n",
       "    </tr>\n",
       "    <tr>\n",
       "      <th>total</th>\n",
       "      <td>76.071823</td>\n",
       "      <td>23.928177</td>\n",
       "      <td>100.000000</td>\n",
       "    </tr>\n",
       "  </tbody>\n",
       "</table>\n",
       "</div>"
      ],
      "text/plain": [
       "inc          <=50K       >50K       total\n",
       "marstat                                  \n",
       "Married  25.424839  20.470087   45.894926\n",
       "NevMarr  31.497482   1.500758   32.998239\n",
       "NotMarr  19.149502   1.957332   21.106834\n",
       "total    76.071823  23.928177  100.000000"
      ]
     },
     "execution_count": 15,
     "metadata": {},
     "output_type": "execute_result"
    }
   ],
   "source": [
    "pd.pivot_table (inc_data, values='age', index=['marstat'],\n",
    " columns='inc', margins = True, margins_name = 'total',\n",
    " aggfunc=lambda x: (len(x) / inc_data.shape[0])*100)"
   ]
  },
  {
   "cell_type": "code",
   "execution_count": 16,
   "metadata": {},
   "outputs": [
    {
     "data": {
      "text/plain": [
       "Husband     19716\n",
       "NoFamily    12583\n",
       "Child        7581\n",
       "OtherRel     6631\n",
       "Wife         2331\n",
       "Name: relation, dtype: int64"
      ]
     },
     "execution_count": 16,
     "metadata": {},
     "output_type": "execute_result"
    }
   ],
   "source": [
    "inc_data['relation'].value_counts()"
   ]
  },
  {
   "cell_type": "code",
   "execution_count": 17,
   "metadata": {},
   "outputs": [
    {
     "data": {
      "text/plain": [
       "<matplotlib.axes._subplots.AxesSubplot at 0x237cb716d68>"
      ]
     },
     "execution_count": 17,
     "metadata": {},
     "output_type": "execute_result"
    },
    {
     "data": {
      "image/png": "[encoded data removed]",
      "text/plain": [
       "<matplotlib.figure.Figure at 0x237c7496c88>"
      ]
     },
     "metadata": {},
     "output_type": "display_data"
    }
   ],
   "source": [
    "sns.countplot(x = 'relation', data = inc_data)"
   ]
  },
  {
   "cell_type": "code",
   "execution_count": 18,
   "metadata": {},
   "outputs": [
    {
     "data": {
      "text/html": [
       "<div>\n",
       "<style>\n",
       "    .dataframe thead tr:only-child th {\n",
       "        text-align: right;\n",
       "    }\n",
       "\n",
       "    .dataframe thead th {\n",
       "        text-align: left;\n",
       "    }\n",
       "\n",
       "    .dataframe tbody tr th {\n",
       "        vertical-align: top;\n",
       "    }\n",
       "</style>\n",
       "<table border=\"1\" class=\"dataframe\">\n",
       "  <thead>\n",
       "    <tr style=\"text-align: right;\">\n",
       "      <th>inc</th>\n",
       "      <th>&lt;=50K</th>\n",
       "      <th>&gt;50K</th>\n",
       "      <th>total</th>\n",
       "    </tr>\n",
       "    <tr>\n",
       "      <th>relation</th>\n",
       "      <th></th>\n",
       "      <th></th>\n",
       "      <th></th>\n",
       "    </tr>\n",
       "  </thead>\n",
       "  <tbody>\n",
       "    <tr>\n",
       "      <th>Child</th>\n",
       "      <td>15.294214</td>\n",
       "      <td>0.227263</td>\n",
       "      <td>15.521477</td>\n",
       "    </tr>\n",
       "    <tr>\n",
       "      <th>Husband</th>\n",
       "      <td>22.255436</td>\n",
       "      <td>18.111461</td>\n",
       "      <td>40.366897</td>\n",
       "    </tr>\n",
       "    <tr>\n",
       "      <th>NoFamily</th>\n",
       "      <td>23.150158</td>\n",
       "      <td>2.612506</td>\n",
       "      <td>25.762663</td>\n",
       "    </tr>\n",
       "    <tr>\n",
       "      <th>OtherRel</th>\n",
       "      <td>12.837312</td>\n",
       "      <td>0.739118</td>\n",
       "      <td>13.576430</td>\n",
       "    </tr>\n",
       "    <tr>\n",
       "      <th>Wife</th>\n",
       "      <td>2.534704</td>\n",
       "      <td>2.237828</td>\n",
       "      <td>4.772532</td>\n",
       "    </tr>\n",
       "    <tr>\n",
       "      <th>total</th>\n",
       "      <td>76.071823</td>\n",
       "      <td>23.928177</td>\n",
       "      <td>100.000000</td>\n",
       "    </tr>\n",
       "  </tbody>\n",
       "</table>\n",
       "</div>"
      ],
      "text/plain": [
       "inc           <=50K       >50K       total\n",
       "relation                                  \n",
       "Child     15.294214   0.227263   15.521477\n",
       "Husband   22.255436  18.111461   40.366897\n",
       "NoFamily  23.150158   2.612506   25.762663\n",
       "OtherRel  12.837312   0.739118   13.576430\n",
       "Wife       2.534704   2.237828    4.772532\n",
       "total     76.071823  23.928177  100.000000"
      ]
     },
     "execution_count": 18,
     "metadata": {},
     "output_type": "execute_result"
    }
   ],
   "source": [
    "pd.pivot_table (inc_data, values='age', index=['relation'],\n",
    " columns='inc', margins = True, margins_name = 'total',\n",
    " aggfunc=lambda x: (len(x) / inc_data.shape[0])*100)"
   ]
  },
  {
   "cell_type": "code",
   "execution_count": 19,
   "metadata": {},
   "outputs": [
    {
     "data": {
      "text/plain": [
       "Priv    36705\n",
       "Gov      6549\n",
       "Self     5588\n",
       "Name: workclass, dtype: int64"
      ]
     },
     "execution_count": 19,
     "metadata": {},
     "output_type": "execute_result"
    }
   ],
   "source": [
    "inc_data['workclass'].value_counts()"
   ]
  },
  {
   "cell_type": "code",
   "execution_count": 20,
   "metadata": {},
   "outputs": [
    {
     "data": {
      "text/plain": [
       "<matplotlib.axes._subplots.AxesSubplot at 0x237cbd24da0>"
      ]
     },
     "execution_count": 20,
     "metadata": {},
     "output_type": "execute_result"
    },
    {
     "data": {
      "image/png": "[encoded data removed]",
      "text/plain": [
       "<matplotlib.figure.Figure at 0x237cbc19160>"
      ]
     },
     "metadata": {},
     "output_type": "display_data"
    }
   ],
   "source": [
    "sns.countplot(x = 'workclass', data = inc_data)"
   ]
  },
  {
   "cell_type": "code",
   "execution_count": 21,
   "metadata": {},
   "outputs": [
    {
     "data": {
      "text/html": [
       "<div>\n",
       "<style>\n",
       "    .dataframe thead tr:only-child th {\n",
       "        text-align: right;\n",
       "    }\n",
       "\n",
       "    .dataframe thead th {\n",
       "        text-align: left;\n",
       "    }\n",
       "\n",
       "    .dataframe tbody tr th {\n",
       "        vertical-align: top;\n",
       "    }\n",
       "</style>\n",
       "<table border=\"1\" class=\"dataframe\">\n",
       "  <thead>\n",
       "    <tr style=\"text-align: right;\">\n",
       "      <th>inc</th>\n",
       "      <th>&lt;=50K</th>\n",
       "      <th>&gt;50K</th>\n",
       "      <th>total</th>\n",
       "    </tr>\n",
       "    <tr>\n",
       "      <th>workclass</th>\n",
       "      <th></th>\n",
       "      <th></th>\n",
       "      <th></th>\n",
       "    </tr>\n",
       "  </thead>\n",
       "  <tbody>\n",
       "    <tr>\n",
       "      <th>Gov</th>\n",
       "      <td>9.276852</td>\n",
       "      <td>4.131690</td>\n",
       "      <td>13.408542</td>\n",
       "    </tr>\n",
       "    <tr>\n",
       "      <th>Priv</th>\n",
       "      <td>59.483641</td>\n",
       "      <td>15.666844</td>\n",
       "      <td>75.150485</td>\n",
       "    </tr>\n",
       "    <tr>\n",
       "      <th>Self</th>\n",
       "      <td>7.311330</td>\n",
       "      <td>4.129643</td>\n",
       "      <td>11.440973</td>\n",
       "    </tr>\n",
       "    <tr>\n",
       "      <th>total</th>\n",
       "      <td>76.071823</td>\n",
       "      <td>23.928177</td>\n",
       "      <td>100.000000</td>\n",
       "    </tr>\n",
       "  </tbody>\n",
       "</table>\n",
       "</div>"
      ],
      "text/plain": [
       "inc            <=50K       >50K       total\n",
       "workclass                                  \n",
       "Gov         9.276852   4.131690   13.408542\n",
       "Priv       59.483641  15.666844   75.150485\n",
       "Self        7.311330   4.129643   11.440973\n",
       "total      76.071823  23.928177  100.000000"
      ]
     },
     "execution_count": 21,
     "metadata": {},
     "output_type": "execute_result"
    }
   ],
   "source": [
    "pd.pivot_table (inc_data, values='age', index=['workclass'],\n",
    " columns='inc', margins = True, margins_name = 'total',\n",
    " aggfunc=lambda x: (len(x) / inc_data.shape[0])*100)"
   ]
  },
  {
   "cell_type": "code",
   "execution_count": 22,
   "metadata": {},
   "outputs": [
    {
     "data": {
      "text/plain": [
       "<=50K    37155\n",
       ">50K     11687\n",
       "Name: inc, dtype: int64"
      ]
     },
     "execution_count": 22,
     "metadata": {},
     "output_type": "execute_result"
    }
   ],
   "source": [
    "inc_data['inc'].value_counts()"
   ]
  },
  {
   "cell_type": "code",
   "execution_count": 23,
   "metadata": {},
   "outputs": [
    {
     "data": {
      "text/plain": [
       "<matplotlib.axes._subplots.AxesSubplot at 0x237cbd48c88>"
      ]
     },
     "execution_count": 23,
     "metadata": {},
     "output_type": "execute_result"
    },
    {
     "data": {
      "image/png": "[encoded data removed]",
      "text/plain": [
       "<matplotlib.figure.Figure at 0x237cbceffd0>"
      ]
     },
     "metadata": {},
     "output_type": "display_data"
    }
   ],
   "source": [
    "sns.countplot (x = 'inc', data = inc_data)"
   ]
  },
  {
   "cell_type": "markdown",
   "metadata": {},
   "source": [
    "##### Step D"
   ]
  },
  {
   "cell_type": "code",
   "execution_count": 24,
   "metadata": {},
   "outputs": [
    {
     "data": {
      "text/html": [
       "<div>\n",
       "<style>\n",
       "    .dataframe thead tr:only-child th {\n",
       "        text-align: right;\n",
       "    }\n",
       "\n",
       "    .dataframe thead th {\n",
       "        text-align: left;\n",
       "    }\n",
       "\n",
       "    .dataframe tbody tr th {\n",
       "        vertical-align: top;\n",
       "    }\n",
       "</style>\n",
       "<table border=\"1\" class=\"dataframe\">\n",
       "  <thead>\n",
       "    <tr style=\"text-align: right;\">\n",
       "      <th></th>\n",
       "      <th>count</th>\n",
       "      <th>mean</th>\n",
       "      <th>std</th>\n",
       "      <th>min</th>\n",
       "      <th>25%</th>\n",
       "      <th>50%</th>\n",
       "      <th>75%</th>\n",
       "      <th>max</th>\n",
       "    </tr>\n",
       "  </thead>\n",
       "  <tbody>\n",
       "    <tr>\n",
       "      <th>age</th>\n",
       "      <td>48842.0</td>\n",
       "      <td>38.643585</td>\n",
       "      <td>13.710510</td>\n",
       "      <td>17.0</td>\n",
       "      <td>28.0</td>\n",
       "      <td>37.0</td>\n",
       "      <td>48.0</td>\n",
       "      <td>90.0</td>\n",
       "    </tr>\n",
       "    <tr>\n",
       "      <th>edu</th>\n",
       "      <td>48842.0</td>\n",
       "      <td>10.078089</td>\n",
       "      <td>2.570973</td>\n",
       "      <td>1.0</td>\n",
       "      <td>9.0</td>\n",
       "      <td>10.0</td>\n",
       "      <td>12.0</td>\n",
       "      <td>16.0</td>\n",
       "    </tr>\n",
       "    <tr>\n",
       "      <th>hrswk</th>\n",
       "      <td>48842.0</td>\n",
       "      <td>40.422382</td>\n",
       "      <td>12.391444</td>\n",
       "      <td>1.0</td>\n",
       "      <td>40.0</td>\n",
       "      <td>40.0</td>\n",
       "      <td>45.0</td>\n",
       "      <td>99.0</td>\n",
       "    </tr>\n",
       "  </tbody>\n",
       "</table>\n",
       "</div>"
      ],
      "text/plain": [
       "         count       mean        std   min   25%   50%   75%   max\n",
       "age    48842.0  38.643585  13.710510  17.0  28.0  37.0  48.0  90.0\n",
       "edu    48842.0  10.078089   2.570973   1.0   9.0  10.0  12.0  16.0\n",
       "hrswk  48842.0  40.422382  12.391444   1.0  40.0  40.0  45.0  99.0"
      ]
     },
     "execution_count": 24,
     "metadata": {},
     "output_type": "execute_result"
    }
   ],
   "source": [
    "inc_data.describe().T"
   ]
  },
  {
   "cell_type": "code",
   "execution_count": 25,
   "metadata": {},
   "outputs": [
    {
     "data": {
      "text/plain": [
       "37155"
      ]
     },
     "execution_count": 25,
     "metadata": {},
     "output_type": "execute_result"
    }
   ],
   "source": [
    "inc_data['inc'].value_counts()[0]"
   ]
  },
  {
   "cell_type": "code",
   "execution_count": 26,
   "metadata": {},
   "outputs": [
    {
     "data": {
      "text/plain": [
       "11687"
      ]
     },
     "execution_count": 26,
     "metadata": {},
     "output_type": "execute_result"
    }
   ],
   "source": [
    "inc_data['inc'].value_counts()[1]\n"
   ]
  },
  {
   "cell_type": "code",
   "execution_count": 27,
   "metadata": {},
   "outputs": [
    {
     "data": {
      "text/html": [
       "<div>\n",
       "<style>\n",
       "    .dataframe thead tr:only-child th {\n",
       "        text-align: right;\n",
       "    }\n",
       "\n",
       "    .dataframe thead th {\n",
       "        text-align: left;\n",
       "    }\n",
       "\n",
       "    .dataframe tbody tr th {\n",
       "        vertical-align: top;\n",
       "    }\n",
       "</style>\n",
       "<table border=\"1\" class=\"dataframe\">\n",
       "  <thead>\n",
       "    <tr style=\"text-align: right;\">\n",
       "      <th>inc</th>\n",
       "      <th>&lt;=50K</th>\n",
       "      <th>&gt;50K</th>\n",
       "    </tr>\n",
       "    <tr>\n",
       "      <th>age</th>\n",
       "      <th></th>\n",
       "      <th></th>\n",
       "    </tr>\n",
       "  </thead>\n",
       "  <tbody>\n",
       "    <tr>\n",
       "      <th>(17, 33]</th>\n",
       "      <td>17257</td>\n",
       "      <td>1854</td>\n",
       "    </tr>\n",
       "    <tr>\n",
       "      <th>(33, 34]</th>\n",
       "      <td>949</td>\n",
       "      <td>354</td>\n",
       "    </tr>\n",
       "    <tr>\n",
       "      <th>(34, 64]</th>\n",
       "      <td>16694</td>\n",
       "      <td>9052</td>\n",
       "    </tr>\n",
       "    <tr>\n",
       "      <th>(64, 85]</th>\n",
       "      <td>1607</td>\n",
       "      <td>413</td>\n",
       "    </tr>\n",
       "    <tr>\n",
       "      <th>(85, 90]</th>\n",
       "      <td>53</td>\n",
       "      <td>14</td>\n",
       "    </tr>\n",
       "  </tbody>\n",
       "</table>\n",
       "</div>"
      ],
      "text/plain": [
       "inc       <=50K  >50K\n",
       "age                  \n",
       "(17, 33]  17257  1854\n",
       "(33, 34]    949   354\n",
       "(34, 64]  16694  9052\n",
       "(64, 85]   1607   413\n",
       "(85, 90]     53    14"
      ]
     },
     "execution_count": 27,
     "metadata": {},
     "output_type": "execute_result"
    }
   ],
   "source": [
    "age = pd.cut(inc_data['age'],[17, 33, 34, 64, 85, 90])\n",
    "age_counts = pd.pivot_table (inc_data, values='age', index=[age], columns='inc', aggfunc= lambda x: len(x))\n",
    "age_counts"
   ]
  },
  {
   "cell_type": "code",
   "execution_count": 28,
   "metadata": {},
   "outputs": [
    {
     "data": {
      "text/plain": [
       "age\n",
       "(17, 33]    0.464460\n",
       "(33, 34]    0.025542\n",
       "(34, 64]    0.449307\n",
       "(64, 85]    0.043251\n",
       "(85, 90]    0.001426\n",
       "Name: <=50K, dtype: float64"
      ]
     },
     "execution_count": 28,
     "metadata": {},
     "output_type": "execute_result"
    }
   ],
   "source": [
    "perc_low_50K = age_counts['<=50K'] / inc_data['inc'].value_counts()[0]\n",
    "perc_low_50K"
   ]
  },
  {
   "cell_type": "code",
   "execution_count": 29,
   "metadata": {},
   "outputs": [
    {
     "data": {
      "text/plain": [
       "age\n",
       "(17, 33]    0.158638\n",
       "(33, 34]    0.030290\n",
       "(34, 64]    0.774536\n",
       "(64, 85]    0.035338\n",
       "(85, 90]    0.001198\n",
       "Name: >50K, dtype: float64"
      ]
     },
     "execution_count": 29,
     "metadata": {},
     "output_type": "execute_result"
    }
   ],
   "source": [
    "perc_hi_50K = age_counts['>50K'] / inc_data['inc'].value_counts()[1]\n",
    "perc_hi_50K"
   ]
  },
  {
   "cell_type": "code",
   "execution_count": 30,
   "metadata": {},
   "outputs": [
    {
     "data": {
      "text/html": [
       "<div>\n",
       "<style>\n",
       "    .dataframe thead tr:only-child th {\n",
       "        text-align: right;\n",
       "    }\n",
       "\n",
       "    .dataframe thead th {\n",
       "        text-align: left;\n",
       "    }\n",
       "\n",
       "    .dataframe tbody tr th {\n",
       "        vertical-align: top;\n",
       "    }\n",
       "</style>\n",
       "<table border=\"1\" class=\"dataframe\">\n",
       "  <thead>\n",
       "    <tr style=\"text-align: right;\">\n",
       "      <th></th>\n",
       "      <th>&lt;=50K</th>\n",
       "      <th>&gt;50K</th>\n",
       "      <th>&lt;=50K</th>\n",
       "      <th>&gt;50K</th>\n",
       "    </tr>\n",
       "    <tr>\n",
       "      <th>age</th>\n",
       "      <th></th>\n",
       "      <th></th>\n",
       "      <th></th>\n",
       "      <th></th>\n",
       "    </tr>\n",
       "  </thead>\n",
       "  <tbody>\n",
       "    <tr>\n",
       "      <th>(17, 33]</th>\n",
       "      <td>17257</td>\n",
       "      <td>1854</td>\n",
       "      <td>0.464460</td>\n",
       "      <td>0.158638</td>\n",
       "    </tr>\n",
       "    <tr>\n",
       "      <th>(33, 34]</th>\n",
       "      <td>949</td>\n",
       "      <td>354</td>\n",
       "      <td>0.025542</td>\n",
       "      <td>0.030290</td>\n",
       "    </tr>\n",
       "    <tr>\n",
       "      <th>(34, 64]</th>\n",
       "      <td>16694</td>\n",
       "      <td>9052</td>\n",
       "      <td>0.449307</td>\n",
       "      <td>0.774536</td>\n",
       "    </tr>\n",
       "    <tr>\n",
       "      <th>(64, 85]</th>\n",
       "      <td>1607</td>\n",
       "      <td>413</td>\n",
       "      <td>0.043251</td>\n",
       "      <td>0.035338</td>\n",
       "    </tr>\n",
       "    <tr>\n",
       "      <th>(85, 90]</th>\n",
       "      <td>53</td>\n",
       "      <td>14</td>\n",
       "      <td>0.001426</td>\n",
       "      <td>0.001198</td>\n",
       "    </tr>\n",
       "  </tbody>\n",
       "</table>\n",
       "</div>"
      ],
      "text/plain": [
       "          <=50K  >50K     <=50K      >50K\n",
       "age                                      \n",
       "(17, 33]  17257  1854  0.464460  0.158638\n",
       "(33, 34]    949   354  0.025542  0.030290\n",
       "(34, 64]  16694  9052  0.449307  0.774536\n",
       "(64, 85]   1607   413  0.043251  0.035338\n",
       "(85, 90]     53    14  0.001426  0.001198"
      ]
     },
     "execution_count": 30,
     "metadata": {},
     "output_type": "execute_result"
    }
   ],
   "source": [
    "age_counts = pd.concat([age_counts, perc_low_50K, perc_hi_50K], axis = 1)\n",
    "age_counts"
   ]
  },
  {
   "cell_type": "code",
   "execution_count": 31,
   "metadata": {},
   "outputs": [
    {
     "data": {
      "text/html": [
       "<div>\n",
       "<style>\n",
       "    .dataframe thead tr:only-child th {\n",
       "        text-align: right;\n",
       "    }\n",
       "\n",
       "    .dataframe thead th {\n",
       "        text-align: left;\n",
       "    }\n",
       "\n",
       "    .dataframe tbody tr th {\n",
       "        vertical-align: top;\n",
       "    }\n",
       "</style>\n",
       "<table border=\"1\" class=\"dataframe\">\n",
       "  <thead>\n",
       "    <tr style=\"text-align: right;\">\n",
       "      <th>inc</th>\n",
       "      <th>&lt;=50K</th>\n",
       "      <th>&gt;50K</th>\n",
       "    </tr>\n",
       "    <tr>\n",
       "      <th>edu</th>\n",
       "      <th></th>\n",
       "      <th></th>\n",
       "    </tr>\n",
       "  </thead>\n",
       "  <tbody>\n",
       "    <tr>\n",
       "      <th>(1, 11]</th>\n",
       "      <td>29595</td>\n",
       "      <td>5453</td>\n",
       "    </tr>\n",
       "    <tr>\n",
       "      <th>(11, 16]</th>\n",
       "      <td>7478</td>\n",
       "      <td>6233</td>\n",
       "    </tr>\n",
       "  </tbody>\n",
       "</table>\n",
       "</div>"
      ],
      "text/plain": [
       "inc       <=50K  >50K\n",
       "edu                  \n",
       "(1, 11]   29595  5453\n",
       "(11, 16]   7478  6233"
      ]
     },
     "execution_count": 31,
     "metadata": {},
     "output_type": "execute_result"
    }
   ],
   "source": [
    "edu = pd.cut(inc_data['edu'],[1,11,16])\n",
    "edu_counts = pd.pivot_table (inc_data, values='edu', index=[edu], columns='inc', aggfunc= lambda x: len(x))\n",
    "edu_counts"
   ]
  },
  {
   "cell_type": "code",
   "execution_count": 32,
   "metadata": {},
   "outputs": [
    {
     "data": {
      "text/html": [
       "<div>\n",
       "<style>\n",
       "    .dataframe thead tr:only-child th {\n",
       "        text-align: right;\n",
       "    }\n",
       "\n",
       "    .dataframe thead th {\n",
       "        text-align: left;\n",
       "    }\n",
       "\n",
       "    .dataframe tbody tr th {\n",
       "        vertical-align: top;\n",
       "    }\n",
       "</style>\n",
       "<table border=\"1\" class=\"dataframe\">\n",
       "  <thead>\n",
       "    <tr style=\"text-align: right;\">\n",
       "      <th></th>\n",
       "      <th>&lt;=50K</th>\n",
       "      <th>&gt;50K</th>\n",
       "      <th>&lt;=50K</th>\n",
       "      <th>&gt;50K</th>\n",
       "    </tr>\n",
       "    <tr>\n",
       "      <th>edu</th>\n",
       "      <th></th>\n",
       "      <th></th>\n",
       "      <th></th>\n",
       "      <th></th>\n",
       "    </tr>\n",
       "  </thead>\n",
       "  <tbody>\n",
       "    <tr>\n",
       "      <th>(1, 11]</th>\n",
       "      <td>29595</td>\n",
       "      <td>5453</td>\n",
       "      <td>0.796528</td>\n",
       "      <td>0.466587</td>\n",
       "    </tr>\n",
       "    <tr>\n",
       "      <th>(11, 16]</th>\n",
       "      <td>7478</td>\n",
       "      <td>6233</td>\n",
       "      <td>0.201265</td>\n",
       "      <td>0.533328</td>\n",
       "    </tr>\n",
       "  </tbody>\n",
       "</table>\n",
       "</div>"
      ],
      "text/plain": [
       "          <=50K  >50K     <=50K      >50K\n",
       "edu                                      \n",
       "(1, 11]   29595  5453  0.796528  0.466587\n",
       "(11, 16]   7478  6233  0.201265  0.533328"
      ]
     },
     "execution_count": 32,
     "metadata": {},
     "output_type": "execute_result"
    }
   ],
   "source": [
    "perc_low_50K = edu_counts['<=50K'] / inc_data['inc'].value_counts()[0]\n",
    "perc_hi_50K = edu_counts['>50K'] / inc_data['inc'].value_counts()[1]\n",
    "edu_counts = pd.concat([edu_counts, perc_low_50K, perc_hi_50K], axis = 1)\n",
    "edu_counts"
   ]
  },
  {
   "cell_type": "code",
   "execution_count": 33,
   "metadata": {},
   "outputs": [
    {
     "data": {
      "text/html": [
       "<div>\n",
       "<style>\n",
       "    .dataframe thead tr:only-child th {\n",
       "        text-align: right;\n",
       "    }\n",
       "\n",
       "    .dataframe thead th {\n",
       "        text-align: left;\n",
       "    }\n",
       "\n",
       "    .dataframe tbody tr th {\n",
       "        vertical-align: top;\n",
       "    }\n",
       "</style>\n",
       "<table border=\"1\" class=\"dataframe\">\n",
       "  <thead>\n",
       "    <tr style=\"text-align: right;\">\n",
       "      <th>inc</th>\n",
       "      <th>&lt;=50K</th>\n",
       "      <th>&gt;50K</th>\n",
       "    </tr>\n",
       "    <tr>\n",
       "      <th>hrswk</th>\n",
       "      <th></th>\n",
       "      <th></th>\n",
       "    </tr>\n",
       "  </thead>\n",
       "  <tbody>\n",
       "    <tr>\n",
       "      <th>(1, 40]</th>\n",
       "      <td>28521</td>\n",
       "      <td>5942</td>\n",
       "    </tr>\n",
       "    <tr>\n",
       "      <th>(40, 99]</th>\n",
       "      <td>8610</td>\n",
       "      <td>5742</td>\n",
       "    </tr>\n",
       "  </tbody>\n",
       "</table>\n",
       "</div>"
      ],
      "text/plain": [
       "inc       <=50K  >50K\n",
       "hrswk                \n",
       "(1, 40]   28521  5942\n",
       "(40, 99]   8610  5742"
      ]
     },
     "execution_count": 33,
     "metadata": {},
     "output_type": "execute_result"
    }
   ],
   "source": [
    "hrswk = pd.cut(inc_data['hrswk'],[1,40,99])\n",
    "hrswk_counts = pd.pivot_table (inc_data, values='hrswk', index=[hrswk], columns='inc', aggfunc= lambda x: len(x))\n",
    "hrswk_counts"
   ]
  },
  {
   "cell_type": "code",
   "execution_count": 34,
   "metadata": {},
   "outputs": [
    {
     "data": {
      "text/html": [
       "<div>\n",
       "<style>\n",
       "    .dataframe thead tr:only-child th {\n",
       "        text-align: right;\n",
       "    }\n",
       "\n",
       "    .dataframe thead th {\n",
       "        text-align: left;\n",
       "    }\n",
       "\n",
       "    .dataframe tbody tr th {\n",
       "        vertical-align: top;\n",
       "    }\n",
       "</style>\n",
       "<table border=\"1\" class=\"dataframe\">\n",
       "  <thead>\n",
       "    <tr style=\"text-align: right;\">\n",
       "      <th></th>\n",
       "      <th>&lt;=50K</th>\n",
       "      <th>&gt;50K</th>\n",
       "      <th>&lt;=50K</th>\n",
       "      <th>&gt;50K</th>\n",
       "    </tr>\n",
       "    <tr>\n",
       "      <th>hrswk</th>\n",
       "      <th></th>\n",
       "      <th></th>\n",
       "      <th></th>\n",
       "      <th></th>\n",
       "    </tr>\n",
       "  </thead>\n",
       "  <tbody>\n",
       "    <tr>\n",
       "      <th>(1, 40]</th>\n",
       "      <td>28521</td>\n",
       "      <td>5942</td>\n",
       "      <td>0.767622</td>\n",
       "      <td>0.508428</td>\n",
       "    </tr>\n",
       "    <tr>\n",
       "      <th>(40, 99]</th>\n",
       "      <td>8610</td>\n",
       "      <td>5742</td>\n",
       "      <td>0.231732</td>\n",
       "      <td>0.491315</td>\n",
       "    </tr>\n",
       "  </tbody>\n",
       "</table>\n",
       "</div>"
      ],
      "text/plain": [
       "          <=50K  >50K     <=50K      >50K\n",
       "hrswk                                    \n",
       "(1, 40]   28521  5942  0.767622  0.508428\n",
       "(40, 99]   8610  5742  0.231732  0.491315"
      ]
     },
     "execution_count": 34,
     "metadata": {},
     "output_type": "execute_result"
    }
   ],
   "source": [
    "perc_low_50K = hrswk_counts['<=50K'] / inc_data['inc'].value_counts()[0]\n",
    "perc_hi_50K = hrswk_counts['>50K'] / inc_data['inc'].value_counts()[1]\n",
    "hrswk_counts = pd.concat([hrswk_counts, perc_low_50K, perc_hi_50K], axis = 1)\n",
    "hrswk_counts"
   ]
  },
  {
   "cell_type": "markdown",
   "metadata": {},
   "source": [
    "##### Step E"
   ]
  },
  {
   "cell_type": "code",
   "execution_count": 35,
   "metadata": {},
   "outputs": [
    {
     "data": {
      "text/plain": [
       "0    37155\n",
       "1    11687\n",
       "Name: inc, dtype: int64"
      ]
     },
     "execution_count": 35,
     "metadata": {},
     "output_type": "execute_result"
    }
   ],
   "source": [
    "inc_data.loc[(inc_data.inc == '<=50K'), 'inc'] = 0\n",
    "inc_data.loc[(inc_data.inc == '>50K'), 'inc'] = 1\n",
    "inc_data.inc = inc_data.inc.astype(int)\n",
    "inc_data['inc'].value_counts()"
   ]
  },
  {
   "cell_type": "code",
   "execution_count": 36,
   "metadata": {},
   "outputs": [
    {
     "data": {
      "text/plain": [
       "1    32650\n",
       "0    16192\n",
       "Name: sex, dtype: int64"
      ]
     },
     "execution_count": 36,
     "metadata": {},
     "output_type": "execute_result"
    }
   ],
   "source": [
    "inc_data.loc[(inc_data.sex == 'F'), 'sex'] = 0\n",
    "inc_data.loc[(inc_data.sex == 'M'), 'sex'] = 1\n",
    "inc_data.sex = inc_data.sex.astype(int)\n",
    "inc_data['sex'].value_counts()"
   ]
  },
  {
   "cell_type": "code",
   "execution_count": 37,
   "metadata": {},
   "outputs": [
    {
     "data": {
      "text/plain": [
       "1    41762\n",
       "0     7080\n",
       "Name: race, dtype: int64"
      ]
     },
     "execution_count": 37,
     "metadata": {},
     "output_type": "execute_result"
    }
   ],
   "source": [
    "inc_data.loc[(inc_data.race == 'NonWh'), 'race'] = 0\n",
    "inc_data.loc[(inc_data.race == 'White'), 'race'] = 1\n",
    "inc_data.race = inc_data.race.astype(int)\n",
    "inc_data['race'].value_counts()"
   ]
  },
  {
   "cell_type": "code",
   "execution_count": 38,
   "metadata": {},
   "outputs": [
    {
     "data": {
      "text/plain": [
       "0    35131\n",
       "1    13711\n",
       "Name: edu, dtype: int64"
      ]
     },
     "execution_count": 38,
     "metadata": {},
     "output_type": "execute_result"
    }
   ],
   "source": [
    "inc_data.loc[(inc_data.edu <= 11), 'edu'] = 0\n",
    "inc_data.loc[(inc_data.edu > 11), 'edu'] = 1\n",
    "inc_data['edu'].value_counts()"
   ]
  },
  {
   "cell_type": "code",
   "execution_count": 39,
   "metadata": {},
   "outputs": [
    {
     "data": {
      "text/plain": [
       "0    34490\n",
       "1    14352\n",
       "Name: hrswk, dtype: int64"
      ]
     },
     "execution_count": 39,
     "metadata": {},
     "output_type": "execute_result"
    }
   ],
   "source": [
    "inc_data.loc[(inc_data.hrswk <= 40), 'hrswk'] = 0\n",
    "inc_data.loc[(inc_data.hrswk > 40), 'hrswk'] = 1\n",
    "\n",
    "inc_data['hrswk'].value_counts()"
   ]
  },
  {
   "cell_type": "code",
   "execution_count": 40,
   "metadata": {},
   "outputs": [
    {
     "data": {
      "text/plain": [
       "Mid      27333\n",
       "Young    19706\n",
       "Old       1803\n",
       "Name: age, dtype: int64"
      ]
     },
     "execution_count": 40,
     "metadata": {},
     "output_type": "execute_result"
    }
   ],
   "source": [
    "inc_data.age = inc_data.age.astype(str)\n",
    "inc_data.loc[(inc_data.age > '65'), 'age'] = 'Old'\n",
    "inc_data.loc[(inc_data.age <= '33'), 'age'] = 'Young'\n",
    "inc_data.loc[(inc_data.age < 'Old'), 'age'] = 'Mid'\n",
    "inc_data['age'].value_counts()"
   ]
  },
  {
   "cell_type": "code",
   "execution_count": 41,
   "metadata": {},
   "outputs": [
    {
     "data": {
      "text/html": [
       "<div>\n",
       "<style>\n",
       "    .dataframe thead tr:only-child th {\n",
       "        text-align: right;\n",
       "    }\n",
       "\n",
       "    .dataframe thead th {\n",
       "        text-align: left;\n",
       "    }\n",
       "\n",
       "    .dataframe tbody tr th {\n",
       "        vertical-align: top;\n",
       "    }\n",
       "</style>\n",
       "<table border=\"1\" class=\"dataframe\">\n",
       "  <thead>\n",
       "    <tr style=\"text-align: right;\">\n",
       "      <th>id</th>\n",
       "      <th>0</th>\n",
       "      <th>1</th>\n",
       "      <th>2</th>\n",
       "      <th>3</th>\n",
       "      <th>4</th>\n",
       "      <th>5</th>\n",
       "      <th>6</th>\n",
       "      <th>7</th>\n",
       "      <th>8</th>\n",
       "      <th>9</th>\n",
       "    </tr>\n",
       "  </thead>\n",
       "  <tbody>\n",
       "    <tr>\n",
       "      <th>AGE_Mid</th>\n",
       "      <td>1</td>\n",
       "      <td>1</td>\n",
       "      <td>1</td>\n",
       "      <td>1</td>\n",
       "      <td>0</td>\n",
       "      <td>1</td>\n",
       "      <td>1</td>\n",
       "      <td>1</td>\n",
       "      <td>0</td>\n",
       "      <td>1</td>\n",
       "    </tr>\n",
       "    <tr>\n",
       "      <th>AGE_Old</th>\n",
       "      <td>0</td>\n",
       "      <td>0</td>\n",
       "      <td>0</td>\n",
       "      <td>0</td>\n",
       "      <td>0</td>\n",
       "      <td>0</td>\n",
       "      <td>0</td>\n",
       "      <td>0</td>\n",
       "      <td>0</td>\n",
       "      <td>0</td>\n",
       "    </tr>\n",
       "    <tr>\n",
       "      <th>AGE_Young</th>\n",
       "      <td>0</td>\n",
       "      <td>0</td>\n",
       "      <td>0</td>\n",
       "      <td>0</td>\n",
       "      <td>1</td>\n",
       "      <td>0</td>\n",
       "      <td>0</td>\n",
       "      <td>0</td>\n",
       "      <td>1</td>\n",
       "      <td>0</td>\n",
       "    </tr>\n",
       "    <tr>\n",
       "      <th>MS_Married</th>\n",
       "      <td>0</td>\n",
       "      <td>1</td>\n",
       "      <td>0</td>\n",
       "      <td>1</td>\n",
       "      <td>1</td>\n",
       "      <td>1</td>\n",
       "      <td>0</td>\n",
       "      <td>1</td>\n",
       "      <td>0</td>\n",
       "      <td>1</td>\n",
       "    </tr>\n",
       "    <tr>\n",
       "      <th>MS_NevMarr</th>\n",
       "      <td>1</td>\n",
       "      <td>0</td>\n",
       "      <td>0</td>\n",
       "      <td>0</td>\n",
       "      <td>0</td>\n",
       "      <td>0</td>\n",
       "      <td>0</td>\n",
       "      <td>0</td>\n",
       "      <td>1</td>\n",
       "      <td>0</td>\n",
       "    </tr>\n",
       "    <tr>\n",
       "      <th>MS_NotMarr</th>\n",
       "      <td>0</td>\n",
       "      <td>0</td>\n",
       "      <td>1</td>\n",
       "      <td>0</td>\n",
       "      <td>0</td>\n",
       "      <td>0</td>\n",
       "      <td>1</td>\n",
       "      <td>0</td>\n",
       "      <td>0</td>\n",
       "      <td>0</td>\n",
       "    </tr>\n",
       "    <tr>\n",
       "      <th>REL_Child</th>\n",
       "      <td>0</td>\n",
       "      <td>0</td>\n",
       "      <td>0</td>\n",
       "      <td>0</td>\n",
       "      <td>0</td>\n",
       "      <td>0</td>\n",
       "      <td>0</td>\n",
       "      <td>0</td>\n",
       "      <td>0</td>\n",
       "      <td>0</td>\n",
       "    </tr>\n",
       "    <tr>\n",
       "      <th>REL_Husband</th>\n",
       "      <td>0</td>\n",
       "      <td>1</td>\n",
       "      <td>0</td>\n",
       "      <td>1</td>\n",
       "      <td>0</td>\n",
       "      <td>0</td>\n",
       "      <td>0</td>\n",
       "      <td>1</td>\n",
       "      <td>0</td>\n",
       "      <td>1</td>\n",
       "    </tr>\n",
       "    <tr>\n",
       "      <th>REL_NoFamily</th>\n",
       "      <td>1</td>\n",
       "      <td>0</td>\n",
       "      <td>1</td>\n",
       "      <td>0</td>\n",
       "      <td>0</td>\n",
       "      <td>0</td>\n",
       "      <td>1</td>\n",
       "      <td>0</td>\n",
       "      <td>1</td>\n",
       "      <td>0</td>\n",
       "    </tr>\n",
       "    <tr>\n",
       "      <th>REL_OtherRel</th>\n",
       "      <td>0</td>\n",
       "      <td>0</td>\n",
       "      <td>0</td>\n",
       "      <td>0</td>\n",
       "      <td>0</td>\n",
       "      <td>0</td>\n",
       "      <td>0</td>\n",
       "      <td>0</td>\n",
       "      <td>0</td>\n",
       "      <td>0</td>\n",
       "    </tr>\n",
       "    <tr>\n",
       "      <th>REL_Wife</th>\n",
       "      <td>0</td>\n",
       "      <td>0</td>\n",
       "      <td>0</td>\n",
       "      <td>0</td>\n",
       "      <td>1</td>\n",
       "      <td>1</td>\n",
       "      <td>0</td>\n",
       "      <td>0</td>\n",
       "      <td>0</td>\n",
       "      <td>0</td>\n",
       "    </tr>\n",
       "    <tr>\n",
       "      <th>WC_Gov</th>\n",
       "      <td>1</td>\n",
       "      <td>0</td>\n",
       "      <td>0</td>\n",
       "      <td>0</td>\n",
       "      <td>0</td>\n",
       "      <td>0</td>\n",
       "      <td>0</td>\n",
       "      <td>0</td>\n",
       "      <td>0</td>\n",
       "      <td>0</td>\n",
       "    </tr>\n",
       "    <tr>\n",
       "      <th>WC_Priv</th>\n",
       "      <td>0</td>\n",
       "      <td>0</td>\n",
       "      <td>1</td>\n",
       "      <td>1</td>\n",
       "      <td>1</td>\n",
       "      <td>1</td>\n",
       "      <td>1</td>\n",
       "      <td>0</td>\n",
       "      <td>1</td>\n",
       "      <td>1</td>\n",
       "    </tr>\n",
       "    <tr>\n",
       "      <th>WC_Self</th>\n",
       "      <td>0</td>\n",
       "      <td>1</td>\n",
       "      <td>0</td>\n",
       "      <td>0</td>\n",
       "      <td>0</td>\n",
       "      <td>0</td>\n",
       "      <td>0</td>\n",
       "      <td>1</td>\n",
       "      <td>0</td>\n",
       "      <td>0</td>\n",
       "    </tr>\n",
       "  </tbody>\n",
       "</table>\n",
       "</div>"
      ],
      "text/plain": [
       "id            0  1  2  3  4  5  6  7  8  9\n",
       "AGE_Mid       1  1  1  1  0  1  1  1  0  1\n",
       "AGE_Old       0  0  0  0  0  0  0  0  0  0\n",
       "AGE_Young     0  0  0  0  1  0  0  0  1  0\n",
       "MS_Married    0  1  0  1  1  1  0  1  0  1\n",
       "MS_NevMarr    1  0  0  0  0  0  0  0  1  0\n",
       "MS_NotMarr    0  0  1  0  0  0  1  0  0  0\n",
       "REL_Child     0  0  0  0  0  0  0  0  0  0\n",
       "REL_Husband   0  1  0  1  0  0  0  1  0  1\n",
       "REL_NoFamily  1  0  1  0  0  0  1  0  1  0\n",
       "REL_OtherRel  0  0  0  0  0  0  0  0  0  0\n",
       "REL_Wife      0  0  0  0  1  1  0  0  0  0\n",
       "WC_Gov        1  0  0  0  0  0  0  0  0  0\n",
       "WC_Priv       0  0  1  1  1  1  1  0  1  1\n",
       "WC_Self       0  1  0  0  0  0  0  1  0  0"
      ]
     },
     "execution_count": 41,
     "metadata": {},
     "output_type": "execute_result"
    }
   ],
   "source": [
    "age_dum = pd.get_dummies (inc_data['age'], prefix = 'AGE')\n",
    "ms_dum = pd.get_dummies (inc_data['marstat'], prefix = 'MS')\n",
    "rel_dum = pd.get_dummies (inc_data['relation'], prefix = 'REL')\n",
    "wc_dum = pd.get_dummies (inc_data['workclass'], prefix = 'WC')\n",
    "inc_dum = pd.concat([age_dum, ms_dum, rel_dum, wc_dum], axis=1)\n",
    "inc_dum.head(10).T\n"
   ]
  },
  {
   "cell_type": "code",
   "execution_count": 42,
   "metadata": {},
   "outputs": [
    {
     "data": {
      "text/html": [
       "<div>\n",
       "<style>\n",
       "    .dataframe thead tr:only-child th {\n",
       "        text-align: right;\n",
       "    }\n",
       "\n",
       "    .dataframe thead th {\n",
       "        text-align: left;\n",
       "    }\n",
       "\n",
       "    .dataframe tbody tr th {\n",
       "        vertical-align: top;\n",
       "    }\n",
       "</style>\n",
       "<table border=\"1\" class=\"dataframe\">\n",
       "  <thead>\n",
       "    <tr style=\"text-align: right;\">\n",
       "      <th>id</th>\n",
       "      <th>0</th>\n",
       "      <th>1</th>\n",
       "      <th>2</th>\n",
       "      <th>3</th>\n",
       "      <th>4</th>\n",
       "      <th>5</th>\n",
       "      <th>6</th>\n",
       "      <th>7</th>\n",
       "      <th>8</th>\n",
       "      <th>9</th>\n",
       "    </tr>\n",
       "  </thead>\n",
       "  <tbody>\n",
       "    <tr>\n",
       "      <th>inc</th>\n",
       "      <td>0</td>\n",
       "      <td>0</td>\n",
       "      <td>0</td>\n",
       "      <td>0</td>\n",
       "      <td>0</td>\n",
       "      <td>0</td>\n",
       "      <td>0</td>\n",
       "      <td>1</td>\n",
       "      <td>1</td>\n",
       "      <td>1</td>\n",
       "    </tr>\n",
       "    <tr>\n",
       "      <th>sex</th>\n",
       "      <td>1</td>\n",
       "      <td>1</td>\n",
       "      <td>1</td>\n",
       "      <td>1</td>\n",
       "      <td>0</td>\n",
       "      <td>0</td>\n",
       "      <td>0</td>\n",
       "      <td>1</td>\n",
       "      <td>0</td>\n",
       "      <td>1</td>\n",
       "    </tr>\n",
       "    <tr>\n",
       "      <th>edu</th>\n",
       "      <td>1</td>\n",
       "      <td>1</td>\n",
       "      <td>0</td>\n",
       "      <td>0</td>\n",
       "      <td>1</td>\n",
       "      <td>1</td>\n",
       "      <td>0</td>\n",
       "      <td>0</td>\n",
       "      <td>1</td>\n",
       "      <td>1</td>\n",
       "    </tr>\n",
       "    <tr>\n",
       "      <th>hrswk</th>\n",
       "      <td>0</td>\n",
       "      <td>0</td>\n",
       "      <td>0</td>\n",
       "      <td>0</td>\n",
       "      <td>0</td>\n",
       "      <td>0</td>\n",
       "      <td>0</td>\n",
       "      <td>1</td>\n",
       "      <td>1</td>\n",
       "      <td>0</td>\n",
       "    </tr>\n",
       "    <tr>\n",
       "      <th>AGE_Mid</th>\n",
       "      <td>1</td>\n",
       "      <td>1</td>\n",
       "      <td>1</td>\n",
       "      <td>1</td>\n",
       "      <td>0</td>\n",
       "      <td>1</td>\n",
       "      <td>1</td>\n",
       "      <td>1</td>\n",
       "      <td>0</td>\n",
       "      <td>1</td>\n",
       "    </tr>\n",
       "    <tr>\n",
       "      <th>AGE_Young</th>\n",
       "      <td>0</td>\n",
       "      <td>0</td>\n",
       "      <td>0</td>\n",
       "      <td>0</td>\n",
       "      <td>1</td>\n",
       "      <td>0</td>\n",
       "      <td>0</td>\n",
       "      <td>0</td>\n",
       "      <td>1</td>\n",
       "      <td>0</td>\n",
       "    </tr>\n",
       "    <tr>\n",
       "      <th>MS_Married</th>\n",
       "      <td>0</td>\n",
       "      <td>1</td>\n",
       "      <td>0</td>\n",
       "      <td>1</td>\n",
       "      <td>1</td>\n",
       "      <td>1</td>\n",
       "      <td>0</td>\n",
       "      <td>1</td>\n",
       "      <td>0</td>\n",
       "      <td>1</td>\n",
       "    </tr>\n",
       "    <tr>\n",
       "      <th>MS_NotMarr</th>\n",
       "      <td>0</td>\n",
       "      <td>0</td>\n",
       "      <td>1</td>\n",
       "      <td>0</td>\n",
       "      <td>0</td>\n",
       "      <td>0</td>\n",
       "      <td>1</td>\n",
       "      <td>0</td>\n",
       "      <td>0</td>\n",
       "      <td>0</td>\n",
       "    </tr>\n",
       "    <tr>\n",
       "      <th>REL_Child</th>\n",
       "      <td>0</td>\n",
       "      <td>0</td>\n",
       "      <td>0</td>\n",
       "      <td>0</td>\n",
       "      <td>0</td>\n",
       "      <td>0</td>\n",
       "      <td>0</td>\n",
       "      <td>0</td>\n",
       "      <td>0</td>\n",
       "      <td>0</td>\n",
       "    </tr>\n",
       "    <tr>\n",
       "      <th>REL_Husband</th>\n",
       "      <td>0</td>\n",
       "      <td>1</td>\n",
       "      <td>0</td>\n",
       "      <td>1</td>\n",
       "      <td>0</td>\n",
       "      <td>0</td>\n",
       "      <td>0</td>\n",
       "      <td>1</td>\n",
       "      <td>0</td>\n",
       "      <td>1</td>\n",
       "    </tr>\n",
       "    <tr>\n",
       "      <th>REL_NoFamily</th>\n",
       "      <td>1</td>\n",
       "      <td>0</td>\n",
       "      <td>1</td>\n",
       "      <td>0</td>\n",
       "      <td>0</td>\n",
       "      <td>0</td>\n",
       "      <td>1</td>\n",
       "      <td>0</td>\n",
       "      <td>1</td>\n",
       "      <td>0</td>\n",
       "    </tr>\n",
       "    <tr>\n",
       "      <th>REL_Wife</th>\n",
       "      <td>0</td>\n",
       "      <td>0</td>\n",
       "      <td>0</td>\n",
       "      <td>0</td>\n",
       "      <td>1</td>\n",
       "      <td>1</td>\n",
       "      <td>0</td>\n",
       "      <td>0</td>\n",
       "      <td>0</td>\n",
       "      <td>0</td>\n",
       "    </tr>\n",
       "    <tr>\n",
       "      <th>WC_Gov</th>\n",
       "      <td>1</td>\n",
       "      <td>0</td>\n",
       "      <td>0</td>\n",
       "      <td>0</td>\n",
       "      <td>0</td>\n",
       "      <td>0</td>\n",
       "      <td>0</td>\n",
       "      <td>0</td>\n",
       "      <td>0</td>\n",
       "      <td>0</td>\n",
       "    </tr>\n",
       "    <tr>\n",
       "      <th>WC_Priv</th>\n",
       "      <td>0</td>\n",
       "      <td>0</td>\n",
       "      <td>1</td>\n",
       "      <td>1</td>\n",
       "      <td>1</td>\n",
       "      <td>1</td>\n",
       "      <td>1</td>\n",
       "      <td>0</td>\n",
       "      <td>1</td>\n",
       "      <td>1</td>\n",
       "    </tr>\n",
       "  </tbody>\n",
       "</table>\n",
       "</div>"
      ],
      "text/plain": [
       "id            0  1  2  3  4  5  6  7  8  9\n",
       "inc           0  0  0  0  0  0  0  1  1  1\n",
       "sex           1  1  1  1  0  0  0  1  0  1\n",
       "edu           1  1  0  0  1  1  0  0  1  1\n",
       "hrswk         0  0  0  0  0  0  0  1  1  0\n",
       "AGE_Mid       1  1  1  1  0  1  1  1  0  1\n",
       "AGE_Young     0  0  0  0  1  0  0  0  1  0\n",
       "MS_Married    0  1  0  1  1  1  0  1  0  1\n",
       "MS_NotMarr    0  0  1  0  0  0  1  0  0  0\n",
       "REL_Child     0  0  0  0  0  0  0  0  0  0\n",
       "REL_Husband   0  1  0  1  0  0  0  1  0  1\n",
       "REL_NoFamily  1  0  1  0  0  0  1  0  1  0\n",
       "REL_Wife      0  0  0  0  1  1  0  0  0  0\n",
       "WC_Gov        1  0  0  0  0  0  0  0  0  0\n",
       "WC_Priv       0  0  1  1  1  1  1  0  1  1"
      ]
     },
     "execution_count": 42,
     "metadata": {},
     "output_type": "execute_result"
    }
   ],
   "source": [
    "inc_dum = inc_dum.drop(['AGE_Old', 'MS_NevMarr', 'REL_OtherRel', 'WC_Self'], axis = 1)\n",
    "inc_dataD = inc_data[['inc', 'sex', 'edu', 'hrswk']]\n",
    "inc_data = pd.concat([inc_dataD, inc_dum], axis=1)\n",
    "inc_data.head(10).T"
   ]
  },
  {
   "cell_type": "markdown",
   "metadata": {
    "collapsed": true
   },
   "source": [
    "##### Step F"
   ]
  },
  {
   "cell_type": "code",
   "execution_count": 43,
   "metadata": {},
   "outputs": [
    {
     "data": {
      "text/html": [
       "<div>\n",
       "<style>\n",
       "    .dataframe thead tr:only-child th {\n",
       "        text-align: right;\n",
       "    }\n",
       "\n",
       "    .dataframe thead th {\n",
       "        text-align: left;\n",
       "    }\n",
       "\n",
       "    .dataframe tbody tr th {\n",
       "        vertical-align: top;\n",
       "    }\n",
       "</style>\n",
       "<table border=\"1\" class=\"dataframe\">\n",
       "  <thead>\n",
       "    <tr style=\"text-align: right;\">\n",
       "      <th></th>\n",
       "      <th>inc</th>\n",
       "      <th>sex</th>\n",
       "      <th>edu</th>\n",
       "      <th>hrswk</th>\n",
       "      <th>AGE_Mid</th>\n",
       "      <th>AGE_Young</th>\n",
       "      <th>MS_Married</th>\n",
       "      <th>MS_NotMarr</th>\n",
       "      <th>REL_Child</th>\n",
       "      <th>REL_Husband</th>\n",
       "      <th>REL_NoFamily</th>\n",
       "      <th>REL_Wife</th>\n",
       "      <th>WC_Gov</th>\n",
       "      <th>WC_Priv</th>\n",
       "    </tr>\n",
       "  </thead>\n",
       "  <tbody>\n",
       "    <tr>\n",
       "      <th>inc</th>\n",
       "      <td>PosStrong</td>\n",
       "      <td>PosMedium</td>\n",
       "      <td>PosMedium</td>\n",
       "      <td>PosMedium</td>\n",
       "      <td>PosMedium</td>\n",
       "      <td>NegMedium</td>\n",
       "      <td>PosMedium</td>\n",
       "      <td>Weak</td>\n",
       "      <td>NegMedium</td>\n",
       "      <td>PosMedium</td>\n",
       "      <td>Weak</td>\n",
       "      <td>Weak</td>\n",
       "      <td>Weak</td>\n",
       "      <td>Weak</td>\n",
       "    </tr>\n",
       "    <tr>\n",
       "      <th>sex</th>\n",
       "      <td>PosMedium</td>\n",
       "      <td>PosStrong</td>\n",
       "      <td>Weak</td>\n",
       "      <td>PosMedium</td>\n",
       "      <td>Weak</td>\n",
       "      <td>Weak</td>\n",
       "      <td>PosMedium</td>\n",
       "      <td>NegMedium</td>\n",
       "      <td>Weak</td>\n",
       "      <td>PosMedium</td>\n",
       "      <td>Weak</td>\n",
       "      <td>NegMedium</td>\n",
       "      <td>Weak</td>\n",
       "      <td>Weak</td>\n",
       "    </tr>\n",
       "    <tr>\n",
       "      <th>edu</th>\n",
       "      <td>PosMedium</td>\n",
       "      <td>Weak</td>\n",
       "      <td>PosStrong</td>\n",
       "      <td>Weak</td>\n",
       "      <td>Weak</td>\n",
       "      <td>Weak</td>\n",
       "      <td>Weak</td>\n",
       "      <td>Weak</td>\n",
       "      <td>Weak</td>\n",
       "      <td>Weak</td>\n",
       "      <td>Weak</td>\n",
       "      <td>Weak</td>\n",
       "      <td>Weak</td>\n",
       "      <td>Weak</td>\n",
       "    </tr>\n",
       "    <tr>\n",
       "      <th>hrswk</th>\n",
       "      <td>PosMedium</td>\n",
       "      <td>PosMedium</td>\n",
       "      <td>Weak</td>\n",
       "      <td>PosStrong</td>\n",
       "      <td>Weak</td>\n",
       "      <td>Weak</td>\n",
       "      <td>Weak</td>\n",
       "      <td>Weak</td>\n",
       "      <td>Weak</td>\n",
       "      <td>PosMedium</td>\n",
       "      <td>Weak</td>\n",
       "      <td>Weak</td>\n",
       "      <td>Weak</td>\n",
       "      <td>Weak</td>\n",
       "    </tr>\n",
       "    <tr>\n",
       "      <th>AGE_Mid</th>\n",
       "      <td>PosMedium</td>\n",
       "      <td>Weak</td>\n",
       "      <td>Weak</td>\n",
       "      <td>Weak</td>\n",
       "      <td>PosStrong</td>\n",
       "      <td>NegStrong</td>\n",
       "      <td>PosMedium</td>\n",
       "      <td>Weak</td>\n",
       "      <td>NegMedium</td>\n",
       "      <td>PosMedium</td>\n",
       "      <td>Weak</td>\n",
       "      <td>Weak</td>\n",
       "      <td>Weak</td>\n",
       "      <td>Weak</td>\n",
       "    </tr>\n",
       "    <tr>\n",
       "      <th>AGE_Young</th>\n",
       "      <td>NegMedium</td>\n",
       "      <td>Weak</td>\n",
       "      <td>Weak</td>\n",
       "      <td>Weak</td>\n",
       "      <td>NegStrong</td>\n",
       "      <td>PosStrong</td>\n",
       "      <td>NegMedium</td>\n",
       "      <td>NegMedium</td>\n",
       "      <td>PosMedium</td>\n",
       "      <td>NegMedium</td>\n",
       "      <td>Weak</td>\n",
       "      <td>Weak</td>\n",
       "      <td>Weak</td>\n",
       "      <td>Weak</td>\n",
       "    </tr>\n",
       "    <tr>\n",
       "      <th>MS_Married</th>\n",
       "      <td>PosMedium</td>\n",
       "      <td>PosMedium</td>\n",
       "      <td>Weak</td>\n",
       "      <td>Weak</td>\n",
       "      <td>PosMedium</td>\n",
       "      <td>NegMedium</td>\n",
       "      <td>PosStrong</td>\n",
       "      <td>NegMedium</td>\n",
       "      <td>NegMedium</td>\n",
       "      <td>PosStrong</td>\n",
       "      <td>NegMedium</td>\n",
       "      <td>PosMedium</td>\n",
       "      <td>Weak</td>\n",
       "      <td>Weak</td>\n",
       "    </tr>\n",
       "    <tr>\n",
       "      <th>MS_NotMarr</th>\n",
       "      <td>Weak</td>\n",
       "      <td>NegMedium</td>\n",
       "      <td>Weak</td>\n",
       "      <td>Weak</td>\n",
       "      <td>Weak</td>\n",
       "      <td>NegMedium</td>\n",
       "      <td>NegMedium</td>\n",
       "      <td>PosStrong</td>\n",
       "      <td>Weak</td>\n",
       "      <td>NegMedium</td>\n",
       "      <td>PosMedium</td>\n",
       "      <td>Weak</td>\n",
       "      <td>Weak</td>\n",
       "      <td>Weak</td>\n",
       "    </tr>\n",
       "    <tr>\n",
       "      <th>REL_Child</th>\n",
       "      <td>NegMedium</td>\n",
       "      <td>Weak</td>\n",
       "      <td>Weak</td>\n",
       "      <td>Weak</td>\n",
       "      <td>NegMedium</td>\n",
       "      <td>PosMedium</td>\n",
       "      <td>NegMedium</td>\n",
       "      <td>Weak</td>\n",
       "      <td>PosStrong</td>\n",
       "      <td>NegMedium</td>\n",
       "      <td>NegMedium</td>\n",
       "      <td>Weak</td>\n",
       "      <td>Weak</td>\n",
       "      <td>Weak</td>\n",
       "    </tr>\n",
       "    <tr>\n",
       "      <th>REL_Husband</th>\n",
       "      <td>PosMedium</td>\n",
       "      <td>PosMedium</td>\n",
       "      <td>Weak</td>\n",
       "      <td>PosMedium</td>\n",
       "      <td>PosMedium</td>\n",
       "      <td>NegMedium</td>\n",
       "      <td>PosStrong</td>\n",
       "      <td>NegMedium</td>\n",
       "      <td>NegMedium</td>\n",
       "      <td>PosStrong</td>\n",
       "      <td>NegMedium</td>\n",
       "      <td>Weak</td>\n",
       "      <td>Weak</td>\n",
       "      <td>Weak</td>\n",
       "    </tr>\n",
       "    <tr>\n",
       "      <th>REL_NoFamily</th>\n",
       "      <td>Weak</td>\n",
       "      <td>Weak</td>\n",
       "      <td>Weak</td>\n",
       "      <td>Weak</td>\n",
       "      <td>Weak</td>\n",
       "      <td>Weak</td>\n",
       "      <td>NegMedium</td>\n",
       "      <td>PosMedium</td>\n",
       "      <td>NegMedium</td>\n",
       "      <td>NegMedium</td>\n",
       "      <td>PosStrong</td>\n",
       "      <td>Weak</td>\n",
       "      <td>Weak</td>\n",
       "      <td>Weak</td>\n",
       "    </tr>\n",
       "    <tr>\n",
       "      <th>REL_Wife</th>\n",
       "      <td>Weak</td>\n",
       "      <td>NegMedium</td>\n",
       "      <td>Weak</td>\n",
       "      <td>Weak</td>\n",
       "      <td>Weak</td>\n",
       "      <td>Weak</td>\n",
       "      <td>PosMedium</td>\n",
       "      <td>Weak</td>\n",
       "      <td>Weak</td>\n",
       "      <td>Weak</td>\n",
       "      <td>Weak</td>\n",
       "      <td>PosStrong</td>\n",
       "      <td>Weak</td>\n",
       "      <td>Weak</td>\n",
       "    </tr>\n",
       "    <tr>\n",
       "      <th>WC_Gov</th>\n",
       "      <td>Weak</td>\n",
       "      <td>Weak</td>\n",
       "      <td>Weak</td>\n",
       "      <td>Weak</td>\n",
       "      <td>Weak</td>\n",
       "      <td>Weak</td>\n",
       "      <td>Weak</td>\n",
       "      <td>Weak</td>\n",
       "      <td>Weak</td>\n",
       "      <td>Weak</td>\n",
       "      <td>Weak</td>\n",
       "      <td>Weak</td>\n",
       "      <td>PosStrong</td>\n",
       "      <td>NegStrong</td>\n",
       "    </tr>\n",
       "    <tr>\n",
       "      <th>WC_Priv</th>\n",
       "      <td>Weak</td>\n",
       "      <td>Weak</td>\n",
       "      <td>Weak</td>\n",
       "      <td>Weak</td>\n",
       "      <td>Weak</td>\n",
       "      <td>Weak</td>\n",
       "      <td>Weak</td>\n",
       "      <td>Weak</td>\n",
       "      <td>Weak</td>\n",
       "      <td>Weak</td>\n",
       "      <td>Weak</td>\n",
       "      <td>Weak</td>\n",
       "      <td>NegStrong</td>\n",
       "      <td>PosStrong</td>\n",
       "    </tr>\n",
       "  </tbody>\n",
       "</table>\n",
       "</div>"
      ],
      "text/plain": [
       "                    inc        sex        edu      hrswk    AGE_Mid  \\\n",
       "inc           PosStrong  PosMedium  PosMedium  PosMedium  PosMedium   \n",
       "sex           PosMedium  PosStrong       Weak  PosMedium       Weak   \n",
       "edu           PosMedium       Weak  PosStrong       Weak       Weak   \n",
       "hrswk         PosMedium  PosMedium       Weak  PosStrong       Weak   \n",
       "AGE_Mid       PosMedium       Weak       Weak       Weak  PosStrong   \n",
       "AGE_Young     NegMedium       Weak       Weak       Weak  NegStrong   \n",
       "MS_Married    PosMedium  PosMedium       Weak       Weak  PosMedium   \n",
       "MS_NotMarr         Weak  NegMedium       Weak       Weak       Weak   \n",
       "REL_Child     NegMedium       Weak       Weak       Weak  NegMedium   \n",
       "REL_Husband   PosMedium  PosMedium       Weak  PosMedium  PosMedium   \n",
       "REL_NoFamily       Weak       Weak       Weak       Weak       Weak   \n",
       "REL_Wife           Weak  NegMedium       Weak       Weak       Weak   \n",
       "WC_Gov             Weak       Weak       Weak       Weak       Weak   \n",
       "WC_Priv            Weak       Weak       Weak       Weak       Weak   \n",
       "\n",
       "              AGE_Young MS_Married MS_NotMarr  REL_Child REL_Husband  \\\n",
       "inc           NegMedium  PosMedium       Weak  NegMedium   PosMedium   \n",
       "sex                Weak  PosMedium  NegMedium       Weak   PosMedium   \n",
       "edu                Weak       Weak       Weak       Weak        Weak   \n",
       "hrswk              Weak       Weak       Weak       Weak   PosMedium   \n",
       "AGE_Mid       NegStrong  PosMedium       Weak  NegMedium   PosMedium   \n",
       "AGE_Young     PosStrong  NegMedium  NegMedium  PosMedium   NegMedium   \n",
       "MS_Married    NegMedium  PosStrong  NegMedium  NegMedium   PosStrong   \n",
       "MS_NotMarr    NegMedium  NegMedium  PosStrong       Weak   NegMedium   \n",
       "REL_Child     PosMedium  NegMedium       Weak  PosStrong   NegMedium   \n",
       "REL_Husband   NegMedium  PosStrong  NegMedium  NegMedium   PosStrong   \n",
       "REL_NoFamily       Weak  NegMedium  PosMedium  NegMedium   NegMedium   \n",
       "REL_Wife           Weak  PosMedium       Weak       Weak        Weak   \n",
       "WC_Gov             Weak       Weak       Weak       Weak        Weak   \n",
       "WC_Priv            Weak       Weak       Weak       Weak        Weak   \n",
       "\n",
       "             REL_NoFamily   REL_Wife     WC_Gov    WC_Priv  \n",
       "inc                  Weak       Weak       Weak       Weak  \n",
       "sex                  Weak  NegMedium       Weak       Weak  \n",
       "edu                  Weak       Weak       Weak       Weak  \n",
       "hrswk                Weak       Weak       Weak       Weak  \n",
       "AGE_Mid              Weak       Weak       Weak       Weak  \n",
       "AGE_Young            Weak       Weak       Weak       Weak  \n",
       "MS_Married      NegMedium  PosMedium       Weak       Weak  \n",
       "MS_NotMarr      PosMedium       Weak       Weak       Weak  \n",
       "REL_Child       NegMedium       Weak       Weak       Weak  \n",
       "REL_Husband     NegMedium       Weak       Weak       Weak  \n",
       "REL_NoFamily    PosStrong       Weak       Weak       Weak  \n",
       "REL_Wife             Weak  PosStrong       Weak       Weak  \n",
       "WC_Gov               Weak       Weak  PosStrong  NegStrong  \n",
       "WC_Priv              Weak       Weak  NegStrong  PosStrong  "
      ]
     },
     "execution_count": 43,
     "metadata": {},
     "output_type": "execute_result"
    }
   ],
   "source": [
    "inc_data.corr()\n",
    "inc_corr = inc_data.corr()\n",
    "columns = ['inc', 'sex', 'edu', 'hrswk', 'AGE_Mid', 'AGE_Young',\n",
    "           'MS_Married', 'MS_NotMarr', 'REL_Child', 'REL_Husband',\n",
    "           'REL_NoFamily', 'REL_Wife', 'WC_Gov', 'WC_Priv']\n",
    "grps = ['NegStrong', 'NegMedium', 'Weak','PosMedium', 'PosStrong']\n",
    "for col in columns:\n",
    "    inc_corr[col] = pd.cut(inc_corr[col],(-1, -0.6, -0.2, 0.2, 0.6, 1), labels=grps)\n",
    "inc_corr "
   ]
  },
  {
   "cell_type": "markdown",
   "metadata": {},
   "source": [
    "##### Step G"
   ]
  },
  {
   "cell_type": "code",
   "execution_count": 44,
   "metadata": {},
   "outputs": [
    {
     "data": {
      "text/plain": [
       "0    7486\n",
       "1    2283\n",
       "dtype: int64"
      ]
     },
     "execution_count": 44,
     "metadata": {},
     "output_type": "execute_result"
    }
   ],
   "source": [
    "Y = inc_data [['inc']]\n",
    "X = inc_data.drop(['inc'], axis=1)\n",
    "Y = Y.values\n",
    "Y = Y.ravel()\n",
    "X_train, X_test, Y_train, Y_test = train_test_split(X, Y,random_state=33,test_size=0.2)\n",
    "pd.Series(Y_test).value_counts()"
   ]
  },
  {
   "cell_type": "code",
   "execution_count": 45,
   "metadata": {},
   "outputs": [
    {
     "name": "stdout",
     "output_type": "stream",
     "text": [
      "Best Test score and params: 0.822806837957 0.05 l2\n"
     ]
    }
   ],
   "source": [
    "hi_sc = 0\n",
    "for p in ['l1', 'l2']:\n",
    "    for c in [0.001,0.005,0.01,0.05,0.1,0.5,1,5,10]:\n",
    "        lr = LogisticRegression (C=c, penalty = p)\n",
    "        lr.fit (X_train,Y_train)\n",
    "        ts_sc = lr.score (X_test, Y_test)\n",
    "        if ts_sc > hi_sc:\n",
    "            hi_sc = ts_sc\n",
    "            hi_c = c\n",
    "            hi_p = p\n",
    "print (\"Best Test score and params:\", hi_sc, hi_c, hi_p)"
   ]
  },
  {
   "cell_type": "code",
   "execution_count": 46,
   "metadata": {},
   "outputs": [
    {
     "name": "stdout",
     "output_type": "stream",
     "text": [
      "Accuracy on test set: 0.8228\n",
      "[[7064  422]\n",
      " [1309  974]]\n"
     ]
    },
    {
     "data": {
      "text/plain": [
       "<matplotlib.text.Text at 0x237cb113048>"
      ]
     },
     "execution_count": 46,
     "metadata": {},
     "output_type": "execute_result"
    },
    {
     "data": {
      "image/png": "[encoded data removed]",
      "text/plain": [
       "<matplotlib.figure.Figure at 0x237cce5de10>"
      ]
     },
     "metadata": {},
     "output_type": "display_data"
    }
   ],
   "source": [
    "lr = LogisticRegression (C=0.05, penalty = 'l2')\n",
    "lr.fit (X_train, Y_train)\n",
    "Y_pred = lr.predict(X_test)\n",
    "print('Accuracy on test set: {:.4f}'.format(lr.score(X_test, Y_test)))\n",
    "mat = confusion_matrix (Y_test, Y_pred)\n",
    "print(mat)\n",
    "sns.heatmap(mat, square=True, annot=True, cbar=False, fmt=\"d\", xticklabels = ['<=50K','>50K'],yticklabels= ['<=50K','>50K'])\n",
    "plt.xlabel('Predicted Values')\n",
    "plt.ylabel('Actual Values')"
   ]
  },
  {
   "cell_type": "markdown",
   "metadata": {},
   "source": [
    "True Positives =7064\n",
    "True Negatives =974\n",
    "False Positives =1309\n",
    "False Negatives =422\n",
    "Sensitivity: True Positive Rate =.9436\n",
    "Specificity: True Negative Rate =.4266\n",
    "Accuracy = .8228"
   ]
  },
  {
   "cell_type": "code",
   "execution_count": 47,
   "metadata": {},
   "outputs": [
    {
     "data": {
      "text/plain": [
       "array([[ 0.4387656 ,  1.47855723,  0.69153983,  0.27820952, -0.72175852,\n",
       "         1.60234653,  0.0880085 , -0.84705363,  0.4143434 ,  0.16254066,\n",
       "         1.14209405,  0.12083965, -0.03768126]])"
      ]
     },
     "execution_count": 47,
     "metadata": {},
     "output_type": "execute_result"
    }
   ],
   "source": [
    "lr.coef_"
   ]
  },
  {
   "cell_type": "code",
   "execution_count": 48,
   "metadata": {},
   "outputs": [
    {
     "data": {
      "text/plain": [
       "array([-3.49937744])"
      ]
     },
     "execution_count": 48,
     "metadata": {},
     "output_type": "execute_result"
    }
   ],
   "source": [
    "lr.intercept_"
   ]
  },
  {
   "cell_type": "markdown",
   "metadata": {},
   "source": [
    "Log (P/1-P) = -3.50 + 0.439*SEX + 1.48*EDU + 0.692*HRSWK +\n",
    "0.278*AGE_MID – 0.722*AGE_YOUNG +\n",
    "1.60*MS_MARRIED + 0.0880*MS_NOTMARR –\n",
    "0.847*REL_CHILD + 0.414*REL_HUSB +\n",
    "0.163*REL_NOFAM + 1.14*REL_WIFE +\n",
    "0.121*WC_GOV - 0.0377*WC_PRIV"
   ]
  },
  {
   "cell_type": "markdown",
   "metadata": {},
   "source": [
    "##### Step H"
   ]
  },
  {
   "cell_type": "code",
   "execution_count": 49,
   "metadata": {},
   "outputs": [
    {
     "data": {
      "text/plain": [
       "0.82195651283731219"
      ]
     },
     "execution_count": 49,
     "metadata": {},
     "output_type": "execute_result"
    }
   ],
   "source": [
    "Y = inc_data [['inc']]\n",
    "X = inc_data.drop (['inc'], axis=1)\n",
    "Y = Y.values\n",
    "Y = Y.ravel()\n",
    "ks = [6, 7, 8, 9, 10, 11, 12, 13]\n",
    "cs = [0.001, 0.005, 0.01, 0.05, 0.1, 0.5, 1, 5, 10]\n",
    "pen = ['l1','l2']\n",
    "kbest = SelectKBest (chi2)\n",
    "pipe = Pipeline([('kbest', kbest),('lr', LogisticRegression())])\n",
    "grid_search = GridSearchCV (pipe,{'kbest__k': ks, 'lr__C': cs,\n",
    " 'lr__penalty': pen}, cv=5)\n",
    "grid_search.fit (X,Y)\n",
    "grid_search.best_score_"
   ]
  },
  {
   "cell_type": "code",
   "execution_count": 50,
   "metadata": {},
   "outputs": [
    {
     "name": "stdout",
     "output_type": "stream",
     "text": [
      "{'kbest__k': 6, 'lr__C': 0.01, 'lr__penalty': 'l1'}\n",
      "{'kbest__k': 7, 'lr__C': 0.01, 'lr__penalty': 'l1'}\n",
      "{'kbest__k': 8, 'lr__C': 0.01, 'lr__penalty': 'l1'}\n",
      "{'kbest__k': 9, 'lr__C': 0.01, 'lr__penalty': 'l1'}\n",
      "{'kbest__k': 10, 'lr__C': 0.01, 'lr__penalty': 'l1'}\n"
     ]
    }
   ],
   "source": [
    "params = grid_search.cv_results_['params']\n",
    "rank = grid_search.cv_results_['rank_test_score']\n",
    "for i in range (len(rank)):\n",
    "    if rank[i] == 1:\n",
    "        print (params[i]) "
   ]
  },
  {
   "cell_type": "code",
   "execution_count": 51,
   "metadata": {},
   "outputs": [
    {
     "data": {
      "text/plain": [
       "[0, 1, 2, 3, 4, 5, 6, 7, 8, 9]"
      ]
     },
     "execution_count": 51,
     "metadata": {},
     "output_type": "execute_result"
    }
   ],
   "source": [
    "kbest2 = SelectKBest(chi2, k=10)\n",
    "kbest2.fit(X,Y)\n",
    "X_best = kbest2.transform(X)\n",
    "Xv = X.values\n",
    "col_list = []\n",
    "for c in range (len (Xv.T)):\n",
    "    for j in range (len (X_best.T)):\n",
    "        found = True\n",
    "        for x in range(20):\n",
    "            if Xv[x][c] != X_best[x][j]:\n",
    "                found = False\n",
    "        if found:\n",
    "            col_list.append(c)\n",
    "col_list"
   ]
  },
  {
   "cell_type": "code",
   "execution_count": 52,
   "metadata": {},
   "outputs": [
    {
     "name": "stdout",
     "output_type": "stream",
     "text": [
      "Accuracy: 0.8226\n"
     ]
    }
   ],
   "source": [
    "Y = inc_data [['inc']]\n",
    "X = inc_data.drop(['inc','REL_Wife','WC_Gov','WC_Priv'], axis=1)\n",
    "Y = Y.values\n",
    "Y = Y.ravel()\n",
    "X_train, X_test, Y_train, Y_test = train_test_split(X, Y,\n",
    " random_state=33,test_size=0.2)\n",
    "lr = LogisticRegression (C=0.01, penalty = 'l1')\n",
    "lr.fit (X_train, Y_train)\n",
    "print ('Accuracy: {:.4f}'.format(lr.score (X_test, Y_test)))"
   ]
  },
  {
   "cell_type": "code",
   "execution_count": 53,
   "metadata": {},
   "outputs": [
    {
     "data": {
      "text/plain": [
       "array([-2.87354662])"
      ]
     },
     "execution_count": 53,
     "metadata": {},
     "output_type": "execute_result"
    }
   ],
   "source": [
    "lr.intercept_"
   ]
  },
  {
   "cell_type": "code",
   "execution_count": 54,
   "metadata": {},
   "outputs": [
    {
     "data": {
      "text/plain": [
       "array([[ 0.        ,  1.42288704,  0.62640511,  0.09318854, -0.84481309,\n",
       "         2.03344078,  0.        , -0.45449225,  0.        ,  0.        ]])"
      ]
     },
     "execution_count": 54,
     "metadata": {},
     "output_type": "execute_result"
    }
   ],
   "source": [
    "lr.coef_"
   ]
  },
  {
   "cell_type": "markdown",
   "metadata": {},
   "source": [
    "Log (P/1-P) = -2.87 + 1.42*EDU + 0.626*HRSWK +\n",
    " 0.0933*AGE_MID – 0.845*AGE_YOUNG +\n",
    " 2.03*MS_MARRIED – 0.454*REL_CHILD "
   ]
  },
  {
   "cell_type": "code",
   "execution_count": 55,
   "metadata": {},
   "outputs": [
    {
     "name": "stdout",
     "output_type": "stream",
     "text": [
      "[[7106  380]\n",
      " [1353  930]]\n"
     ]
    },
    {
     "data": {
      "text/plain": [
       "<matplotlib.text.Text at 0x237cb1c16a0>"
      ]
     },
     "execution_count": 55,
     "metadata": {},
     "output_type": "execute_result"
    },
    {
     "data": {
      "image/png": "[encoded data removed]",
      "text/plain": [
       "<matplotlib.figure.Figure at 0x237cce5d550>"
      ]
     },
     "metadata": {},
     "output_type": "display_data"
    }
   ],
   "source": [
    "Y_pred = lr.predict(X_test)\n",
    "mat = confusion_matrix (Y_test, Y_pred)\n",
    "print (mat)\n",
    "sns.heatmap(mat, square=True, annot=True, cbar=False,\n",
    " fmt=\"d\", xticklabels = ['<=50K','>50K'],\n",
    " yticklabels = ['<=50K','>50K'])\n",
    "plt.xlabel ('Predicted Values')\n",
    "plt.ylabel ('Actual Values')"
   ]
  },
  {
   "cell_type": "markdown",
   "metadata": {},
   "source": [
    "##### Step I"
   ]
  },
  {
   "cell_type": "code",
   "execution_count": 56,
   "metadata": {},
   "outputs": [
    {
     "data": {
      "text/plain": [
       "0.82226362556815857"
      ]
     },
     "execution_count": 56,
     "metadata": {},
     "output_type": "execute_result"
    }
   ],
   "source": [
    "Y = inc_data [['inc']]\n",
    "X = inc_data.drop(['inc'], axis=1)\n",
    "Y = Y.values\n",
    "Y = Y.ravel()\n",
    "X_train, X_test, Y_train, Y_test = train_test_split (X, Y,\n",
    " random_state=33,test_size=0.2)\n",
    "cs = [0.001, 0.005, 0.01, 0.05, 0.1, 0.5, 1, 5, 10]\n",
    "pen = ['l1','l2']\n",
    "pca = PCA()\n",
    "lr = LogisticRegression()\n",
    "pipe = Pipeline([('pca', pca), ('lr', lr)])\n",
    "pca.fit(X)\n",
    "n_comps = [6, 7, 8, 9, 10, 11, 12, 13]\n",
    "grid_search = GridSearchCV(pipe, {'pca__n_components': n_comps,\n",
    " 'lr__C': cs, 'lr__penalty': pen}, cv=5)\n",
    "grid_search.fit(X,Y)\n",
    "grid_search.best_score_"
   ]
  },
  {
   "cell_type": "code",
   "execution_count": 57,
   "metadata": {},
   "outputs": [
    {
     "name": "stdout",
     "output_type": "stream",
     "text": [
      "{'lr__C': 0.005, 'lr__penalty': 'l2', 'pca__n_components': 11}\n"
     ]
    }
   ],
   "source": [
    "params = grid_search.cv_results_['params']\n",
    "rank = grid_search.cv_results_['rank_test_score']\n",
    "for i in range (len(rank)):\n",
    "    if rank[i] == 1:\n",
    "        print (params[i])"
   ]
  },
  {
   "cell_type": "code",
   "execution_count": 58,
   "metadata": {},
   "outputs": [
    {
     "name": "stdout",
     "output_type": "stream",
     "text": [
      "Accuracy: 0.8231\n"
     ]
    }
   ],
   "source": [
    "Y = inc_data [['inc']]\n",
    "X = inc_data.drop(['inc'], axis=1)\n",
    "Y = Y.values\n",
    "Y = Y.ravel()\n",
    "pca = PCA (n_components=11)\n",
    "pca.fit (X)\n",
    "X_11D = pca.transform (X)\n",
    "X_train, X_test, Y_train, Y_test = train_test_split(X_11D, Y,\n",
    " random_state=33,test_size=0.2)\n",
    "lr = LogisticRegression(C=0.005, penalty = 'l2')\n",
    "lr.fit (X_train, Y_train)\n",
    "print('Accuracy: {:.4f}'.format(lr.score(X_test, Y_test)))\n"
   ]
  },
  {
   "cell_type": "code",
   "execution_count": 59,
   "metadata": {},
   "outputs": [
    {
     "name": "stdout",
     "output_type": "stream",
     "text": [
      "[[7087  399]\n",
      " [1329  954]]\n"
     ]
    },
    {
     "data": {
      "text/plain": [
       "<matplotlib.text.Text at 0x237cb25fc88>"
      ]
     },
     "execution_count": 59,
     "metadata": {},
     "output_type": "execute_result"
    },
    {
     "data": {
      "image/png": "[encoded data removed]",
      "text/plain": [
       "<matplotlib.figure.Figure at 0x237cb17a6a0>"
      ]
     },
     "metadata": {},
     "output_type": "display_data"
    }
   ],
   "source": [
    "Y_pred = lr.predict(X_test)\n",
    "mat = confusion_matrix (Y_test, Y_pred)\n",
    "print (mat)\n",
    "sns.heatmap(mat, square=True, annot=True, cbar=False,\n",
    " fmt=\"d\", xticklabels = ['<=50K','>50K'],\n",
    " yticklabels = ['<=50K','>50K'])\n",
    "plt.xlabel ('Predicted Values')\n",
    "plt.ylabel ('Actual Values')"
   ]
  },
  {
   "cell_type": "markdown",
   "metadata": {},
   "source": [
    "True Positives =7087\n",
    "True Negatives =954\n",
    "False Positives =399\n",
    "False Negatives =1329\n",
    "Sensitivity: True Positive Rate =.8421\n",
    "Specificity: True Negative Rate =.7051\n",
    "Accuracy =.8231\n"
   ]
  },
  {
   "cell_type": "markdown",
   "metadata": {},
   "source": [
    "##### Step J"
   ]
  },
  {
   "cell_type": "code",
   "execution_count": 60,
   "metadata": {},
   "outputs": [
    {
     "data": {
      "text/plain": [
       "0.82201793538348145"
      ]
     },
     "execution_count": 60,
     "metadata": {},
     "output_type": "execute_result"
    }
   ],
   "source": [
    "Y = inc_data [['inc']]\n",
    "X = inc_data.drop (['inc'], axis=1)\n",
    "Y = Y.values\n",
    "Y = Y.ravel()\n",
    "n_comps = [6, 7, 8, 9, 10, 11, 12, 13]\n",
    "ks = [6, 7, 8, 9, 10, 11, 12, 13]\n",
    "cs = [0.001, 0.005, 0.01, 0.05, 0.1, 0.5, 1, 5, 10]\n",
    "pipe = Pipeline([('reduce_dim', PCA()), ('classify', LinearSVC())])\n",
    "param_grid = [{'reduce_dim': [PCA()], 'reduce_dim__n_components': n_comps, 'classify__C': cs },\n",
    "              {'reduce_dim': [SelectKBest (chi2)],'reduce_dim__k': ks, 'classify__C': cs }]\n",
    "grid_search = GridSearchCV (pipe, param_grid=param_grid, cv=5)\n",
    "grid_search.fit (X,Y)\n",
    "grid_search.best_score_"
   ]
  },
  {
   "cell_type": "code",
   "execution_count": 61,
   "metadata": {},
   "outputs": [
    {
     "name": "stdout",
     "output_type": "stream",
     "text": [
      "{'classify__C': 0.001, 'reduce_dim': PCA(copy=True, iterated_power='auto', n_components=10, random_state=None,\n",
      "  svd_solver='auto', tol=0.0, whiten=False), 'reduce_dim__n_components': 10}\n",
      "{'classify__C': 0.05, 'reduce_dim': PCA(copy=True, iterated_power='auto', n_components=10, random_state=None,\n",
      "  svd_solver='auto', tol=0.0, whiten=False), 'reduce_dim__n_components': 8}\n",
      "{'classify__C': 0.1, 'reduce_dim': PCA(copy=True, iterated_power='auto', n_components=10, random_state=None,\n",
      "  svd_solver='auto', tol=0.0, whiten=False), 'reduce_dim__n_components': 8}\n",
      "{'classify__C': 0.5, 'reduce_dim': PCA(copy=True, iterated_power='auto', n_components=10, random_state=None,\n",
      "  svd_solver='auto', tol=0.0, whiten=False), 'reduce_dim__n_components': 8}\n",
      "{'classify__C': 1, 'reduce_dim': PCA(copy=True, iterated_power='auto', n_components=10, random_state=None,\n",
      "  svd_solver='auto', tol=0.0, whiten=False), 'reduce_dim__n_components': 8}\n",
      "{'classify__C': 5, 'reduce_dim': PCA(copy=True, iterated_power='auto', n_components=10, random_state=None,\n",
      "  svd_solver='auto', tol=0.0, whiten=False), 'reduce_dim__n_components': 8}\n",
      "{'classify__C': 10, 'reduce_dim': PCA(copy=True, iterated_power='auto', n_components=10, random_state=None,\n",
      "  svd_solver='auto', tol=0.0, whiten=False), 'reduce_dim__n_components': 8}\n"
     ]
    }
   ],
   "source": [
    "params = grid_search.cv_results_['params']\n",
    "rank = grid_search.cv_results_['rank_test_score']\n",
    "for i in range (len(rank)):\n",
    "    if rank[i] == 1:\n",
    "        print (params[i])"
   ]
  },
  {
   "cell_type": "code",
   "execution_count": 62,
   "metadata": {},
   "outputs": [
    {
     "name": "stdout",
     "output_type": "stream",
     "text": [
      "Accuracy: 0.8228\n",
      "[[7106  380]\n",
      " [1351  932]]\n"
     ]
    },
    {
     "data": {
      "text/plain": [
       "<matplotlib.text.Text at 0x237cb2ddc88>"
      ]
     },
     "execution_count": 62,
     "metadata": {},
     "output_type": "execute_result"
    },
    {
     "data": {
      "image/png": "[encoded data removed]",
      "text/plain": [
       "<matplotlib.figure.Figure at 0x237cb2b0ac8>"
      ]
     },
     "metadata": {},
     "output_type": "display_data"
    }
   ],
   "source": [
    "Y = inc_data [['inc']]\n",
    "X = inc_data.drop(['inc'], axis=1)\n",
    "Y = Y.values\n",
    "Y = Y.ravel()\n",
    "pca = PCA (n_components=10)\n",
    "pca.fit (X)\n",
    "X_10D = pca.transform (X)\n",
    "X_train, X_test, Y_train, Y_test = train_test_split (X_10D, Y,\n",
    " random_state=33, test_size=0.2)\n",
    "svm = LinearSVC (C=0.001)\n",
    "svm.fit (X_train, Y_train)\n",
    "print ('Accuracy: {:.4f}'.format (svm.score( X_test, Y_test)))\n",
    "\n",
    "Y_pred = svm.predict(X_test)\n",
    "mat = confusion_matrix (Y_test, Y_pred)\n",
    "print (mat)\n",
    "sns.heatmap(mat, square=True, annot=True, cbar=False,\n",
    " fmt=\"d\", xticklabels = ['<=50K','>50K'],\n",
    " yticklabels = ['<=50K','>50K'])\n",
    "plt.xlabel ('Predicted Values')\n",
    "plt.ylabel ('Actual Values')"
   ]
  },
  {
   "cell_type": "markdown",
   "metadata": {},
   "source": [
    "True Positives =7106\n",
    "True Negatives =932\n",
    "False Positives =380\n",
    "False Negatives =1351\n",
    "Sensitivity: True Positive Rate =\n",
    "Specificity: True Negative Rate =\n",
    "Accuracy ="
   ]
  }
 ],
 "metadata": {
  "kernelspec": {
   "display_name": "Python 3",
   "language": "python",
   "name": "python3"
  },
  "language_info": {
   "codemirror_mode": {
    "name": "ipython",
    "version": 3
   },
   "file_extension": ".py",
   "mimetype": "text/x-python",
   "name": "python",
   "nbconvert_exporter": "python",
   "pygments_lexer": "ipython3",
   "version": "3.6.1"
  }
 },
 "nbformat": 4,
 "nbformat_minor": 2
}
